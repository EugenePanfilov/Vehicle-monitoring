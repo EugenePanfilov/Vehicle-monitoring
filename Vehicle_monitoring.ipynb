{
 "cells": [
  {
   "cell_type": "code",
   "execution_count": 1,
   "metadata": {},
   "outputs": [],
   "source": [
    "#pip install ipyleaflet"
   ]
  },
  {
   "cell_type": "code",
   "execution_count": 2,
   "metadata": {},
   "outputs": [],
   "source": [
    "import pandas as pd\n",
    "import numpy as np\n",
    "import seaborn as sns\n",
    "import matplotlib.pyplot as plt\n",
    "\n",
    "from datetime import datetime as dt\n",
    "\n",
    "from ipyleaflet import Map, basemaps, Marker, AntPath, WidgetControl, Popup, basemap_to_tiles\n",
    "from ipywidgets import IntSlider, jslink, HTML\n",
    "\n",
    "from math import radians, sin, cos, asin, sqrt\n",
    "\n",
    "from sklearn.cluster import DBSCAN\n",
    "from sklearn.preprocessing import StandardScaler"
   ]
  },
  {
   "cell_type": "markdown",
   "metadata": {},
   "source": [
    "======================================================================================================================="
   ]
  },
  {
   "cell_type": "markdown",
   "metadata": {},
   "source": [
    "### Функции для визуализации треков"
   ]
  },
  {
   "cell_type": "code",
   "execution_count": 3,
   "metadata": {},
   "outputs": [],
   "source": [
    "def track(tracker_code):\n",
    "    fig, ax = plt.subplots(1, 1, figsize = (20, 15))\n",
    "    \n",
    "    ax.plot(df[df.tracker_code == tracker_code]['longitude'], \n",
    "            df[df.tracker_code == tracker_code]['latitude'])\n",
    "    \n",
    "    ax.set_title(f'tracker_code = {tracker_code}', fontsize = 20)\n",
    "    ax.set_xlabel('Долгота', fontsize = 20)\n",
    "    ax.set_ylabel('Широта', fontsize = 20)\n",
    "    ax.grid()"
   ]
  },
  {
   "cell_type": "code",
   "execution_count": 4,
   "metadata": {},
   "outputs": [],
   "source": [
    "def track_on_map(tracker_code):\n",
    "    coordinates = list(zip(df[df.tracker_code == tracker_code]['latitude'], \n",
    "                           df[df.tracker_code == tracker_code]['longitude']))\n",
    "    \n",
    "    locations = []\n",
    "    \n",
    "    for i in coordinates:\n",
    "        locations.append(list(i))\n",
    "        \n",
    "    m = Map(center=coordinates[0],\n",
    "            basemap=basemap_to_tiles(basemaps.OpenStreetMap.Mapnik),\n",
    "            zoom=4)\n",
    "        \n",
    "    marathon_path = AntPath(\n",
    "        locations=locations,\n",
    "        dash_array=[1, 10],\n",
    "        delay=1000,\n",
    "        color='#9500ff',\n",
    "        pulse_color='#9500ff')\n",
    "        \n",
    "    m.add_layer(marathon_path)                                    \n",
    "        \n",
    "    zoom_slider = IntSlider(description='Масштаб:', min=1, max=20, value=12)\n",
    "    jslink((zoom_slider, 'value'), (m, 'zoom'))\n",
    "    widget_control1 = WidgetControl(widget=zoom_slider, position='topright')\n",
    "    m.add_control(widget_control1)\n",
    "        \n",
    "    return m"
   ]
  },
  {
   "cell_type": "markdown",
   "metadata": {},
   "source": [
    "### Функция для расчёта расстояния между двумя точками"
   ]
  },
  {
   "cell_type": "code",
   "execution_count": 5,
   "metadata": {},
   "outputs": [],
   "source": [
    "def haversine(lon1, lat1, lon2, lat2):\n",
    "    lon1, lat1, lon2, lat2 = map(radians, [lon1, lat1, lon2, lat2])\n",
    "    dlon = lon2 - lon1\n",
    "    dlat = lat2 - lat1\n",
    "    a = sin(dlat/2)**2 + cos(lat1) * cos(lat2) * sin(dlon/2) ** 2\n",
    "    c = 2 * asin(sqrt(a))\n",
    "    earth_radius = 6371 \n",
    "    return c * earth_radius"
   ]
  },
  {
   "cell_type": "markdown",
   "metadata": {},
   "source": [
    "### Функции для поиска выбросов"
   ]
  },
  {
   "cell_type": "code",
   "execution_count": 6,
   "metadata": {},
   "outputs": [],
   "source": [
    "def outliers_iqr(ys):\n",
    "    quartile_1, quartile_3 = np.percentile(ys, [25, 75])\n",
    "    iqr = quartile_3 - quartile_1\n",
    "    lower_bound = quartile_1 - (iqr * 1.5)\n",
    "    upper_bound = quartile_3 + (iqr * 1.5)\n",
    "    return np.where((ys > upper_bound) | (ys < lower_bound))[0]"
   ]
  },
  {
   "cell_type": "code",
   "execution_count": 7,
   "metadata": {},
   "outputs": [],
   "source": [
    "def outliers_z_score(ys, threshold=3):\n",
    "    mean_y = np.mean(ys)\n",
    "    std_y = np.std(ys)\n",
    "    z_scores = [(y - mean_y) / std_y for y in ys]\n",
    "    return np.where(np.abs(z_scores) > threshold)[0]"
   ]
  },
  {
   "cell_type": "markdown",
   "metadata": {},
   "source": [
    "======================================================================================================================="
   ]
  },
  {
   "cell_type": "code",
   "execution_count": 8,
   "metadata": {},
   "outputs": [],
   "source": [
    "data = pd.read_csv('point_202310101547.csv', sep = ';')"
   ]
  },
  {
   "cell_type": "code",
   "execution_count": 9,
   "metadata": {
    "scrolled": false
   },
   "outputs": [
    {
     "data": {
      "text/html": [
       "<div>\n",
       "<style scoped>\n",
       "    .dataframe tbody tr th:only-of-type {\n",
       "        vertical-align: middle;\n",
       "    }\n",
       "\n",
       "    .dataframe tbody tr th {\n",
       "        vertical-align: top;\n",
       "    }\n",
       "\n",
       "    .dataframe thead th {\n",
       "        text-align: right;\n",
       "    }\n",
       "</style>\n",
       "<table border=\"1\" class=\"dataframe\">\n",
       "  <thead>\n",
       "    <tr style=\"text-align: right;\">\n",
       "      <th></th>\n",
       "      <th>tracker_code</th>\n",
       "      <th>navigation_time</th>\n",
       "      <th>received_time</th>\n",
       "      <th>latitude</th>\n",
       "      <th>longitude</th>\n",
       "      <th>altitude</th>\n",
       "      <th>nsat</th>\n",
       "      <th>course</th>\n",
       "      <th>speed</th>\n",
       "      <th>pdop</th>\n",
       "      <th>geom</th>\n",
       "    </tr>\n",
       "  </thead>\n",
       "  <tbody>\n",
       "    <tr>\n",
       "      <th>0</th>\n",
       "      <td>1861179465</td>\n",
       "      <td>2023-05-11 00:00:16.000</td>\n",
       "      <td>2023-05-10 23:46:01.454</td>\n",
       "      <td>61.050015</td>\n",
       "      <td>76.130463</td>\n",
       "      <td>0.0</td>\n",
       "      <td>3.0</td>\n",
       "      <td>14</td>\n",
       "      <td>2</td>\n",
       "      <td>0.0</td>\n",
       "      <td>POINT (76.13046333103685 61.050014987366744)</td>\n",
       "    </tr>\n",
       "    <tr>\n",
       "      <th>1</th>\n",
       "      <td>1861179465</td>\n",
       "      <td>2023-05-11 00:02:30.000</td>\n",
       "      <td>2023-05-10 23:48:07.809</td>\n",
       "      <td>61.044565</td>\n",
       "      <td>76.127673</td>\n",
       "      <td>0.0</td>\n",
       "      <td>5.0</td>\n",
       "      <td>356</td>\n",
       "      <td>4</td>\n",
       "      <td>0.0</td>\n",
       "      <td>POINT (76.12767333074652 61.044564990104305)</td>\n",
       "    </tr>\n",
       "    <tr>\n",
       "      <th>2</th>\n",
       "      <td>1861179465</td>\n",
       "      <td>2023-05-11 00:02:24.000</td>\n",
       "      <td>2023-05-10 23:48:07.688</td>\n",
       "      <td>61.044437</td>\n",
       "      <td>76.127673</td>\n",
       "      <td>0.0</td>\n",
       "      <td>5.0</td>\n",
       "      <td>22</td>\n",
       "      <td>4</td>\n",
       "      <td>0.0</td>\n",
       "      <td>POINT (76.12767333074652 61.04443666316672)</td>\n",
       "    </tr>\n",
       "    <tr>\n",
       "      <th>3</th>\n",
       "      <td>1861179465</td>\n",
       "      <td>2023-05-11 00:01:52.000</td>\n",
       "      <td>2023-05-10 23:47:57.702</td>\n",
       "      <td>61.044362</td>\n",
       "      <td>76.127567</td>\n",
       "      <td>0.0</td>\n",
       "      <td>5.0</td>\n",
       "      <td>8</td>\n",
       "      <td>2</td>\n",
       "      <td>0.0</td>\n",
       "      <td>POINT (76.12756662911912 61.04436166608808)</td>\n",
       "    </tr>\n",
       "    <tr>\n",
       "      <th>4</th>\n",
       "      <td>1861179465</td>\n",
       "      <td>2023-05-11 00:02:12.000</td>\n",
       "      <td>2023-05-10 23:47:57.584</td>\n",
       "      <td>61.044265</td>\n",
       "      <td>76.127608</td>\n",
       "      <td>0.0</td>\n",
       "      <td>5.0</td>\n",
       "      <td>8</td>\n",
       "      <td>6</td>\n",
       "      <td>0.0</td>\n",
       "      <td>POINT (76.12760832908741 61.04426498083497)</td>\n",
       "    </tr>\n",
       "    <tr>\n",
       "      <th>...</th>\n",
       "      <td>...</td>\n",
       "      <td>...</td>\n",
       "      <td>...</td>\n",
       "      <td>...</td>\n",
       "      <td>...</td>\n",
       "      <td>...</td>\n",
       "      <td>...</td>\n",
       "      <td>...</td>\n",
       "      <td>...</td>\n",
       "      <td>...</td>\n",
       "      <td>...</td>\n",
       "    </tr>\n",
       "    <tr>\n",
       "      <th>57321004</th>\n",
       "      <td>382758</td>\n",
       "      <td>2023-05-11 21:19:33.000</td>\n",
       "      <td>2023-05-12 09:34:26.941</td>\n",
       "      <td>61.266212</td>\n",
       "      <td>75.195137</td>\n",
       "      <td>29.0</td>\n",
       "      <td>12.0</td>\n",
       "      <td>0</td>\n",
       "      <td>0</td>\n",
       "      <td>1.0</td>\n",
       "      <td>POINT (75.19513748474306 61.26621165807969)</td>\n",
       "    </tr>\n",
       "    <tr>\n",
       "      <th>57321005</th>\n",
       "      <td>382758</td>\n",
       "      <td>2023-05-11 21:19:23.000</td>\n",
       "      <td>2023-05-12 09:34:26.941</td>\n",
       "      <td>61.266213</td>\n",
       "      <td>75.195139</td>\n",
       "      <td>29.0</td>\n",
       "      <td>12.0</td>\n",
       "      <td>0</td>\n",
       "      <td>0</td>\n",
       "      <td>1.0</td>\n",
       "      <td>POINT (75.19513916112369 61.26621331350557)</td>\n",
       "    </tr>\n",
       "    <tr>\n",
       "      <th>57321006</th>\n",
       "      <td>382758</td>\n",
       "      <td>2023-05-11 21:19:12.000</td>\n",
       "      <td>2023-05-12 09:34:26.941</td>\n",
       "      <td>61.266215</td>\n",
       "      <td>75.195137</td>\n",
       "      <td>29.0</td>\n",
       "      <td>12.0</td>\n",
       "      <td>0</td>\n",
       "      <td>0</td>\n",
       "      <td>1.0</td>\n",
       "      <td>POINT (75.19513748474306 61.2662149898862)</td>\n",
       "    </tr>\n",
       "    <tr>\n",
       "      <th>57321007</th>\n",
       "      <td>382758</td>\n",
       "      <td>2023-05-11 21:19:02.000</td>\n",
       "      <td>2023-05-12 09:34:26.941</td>\n",
       "      <td>61.266216</td>\n",
       "      <td>75.195137</td>\n",
       "      <td>29.0</td>\n",
       "      <td>12.0</td>\n",
       "      <td>0</td>\n",
       "      <td>0</td>\n",
       "      <td>1.0</td>\n",
       "      <td>POINT (75.19513664655274 61.26621582807652)</td>\n",
       "    </tr>\n",
       "    <tr>\n",
       "      <th>57321008</th>\n",
       "      <td>382758</td>\n",
       "      <td>2023-05-11 21:18:52.000</td>\n",
       "      <td>2023-05-12 09:34:26.941</td>\n",
       "      <td>61.266214</td>\n",
       "      <td>75.195136</td>\n",
       "      <td>29.0</td>\n",
       "      <td>12.0</td>\n",
       "      <td>0</td>\n",
       "      <td>0</td>\n",
       "      <td>1.0</td>\n",
       "      <td>POINT (75.19513580836242 61.266214151695884)</td>\n",
       "    </tr>\n",
       "  </tbody>\n",
       "</table>\n",
       "<p>57321009 rows × 11 columns</p>\n",
       "</div>"
      ],
      "text/plain": [
       "          tracker_code          navigation_time            received_time  \\\n",
       "0           1861179465  2023-05-11 00:00:16.000  2023-05-10 23:46:01.454   \n",
       "1           1861179465  2023-05-11 00:02:30.000  2023-05-10 23:48:07.809   \n",
       "2           1861179465  2023-05-11 00:02:24.000  2023-05-10 23:48:07.688   \n",
       "3           1861179465  2023-05-11 00:01:52.000  2023-05-10 23:47:57.702   \n",
       "4           1861179465  2023-05-11 00:02:12.000  2023-05-10 23:47:57.584   \n",
       "...                ...                      ...                      ...   \n",
       "57321004        382758  2023-05-11 21:19:33.000  2023-05-12 09:34:26.941   \n",
       "57321005        382758  2023-05-11 21:19:23.000  2023-05-12 09:34:26.941   \n",
       "57321006        382758  2023-05-11 21:19:12.000  2023-05-12 09:34:26.941   \n",
       "57321007        382758  2023-05-11 21:19:02.000  2023-05-12 09:34:26.941   \n",
       "57321008        382758  2023-05-11 21:18:52.000  2023-05-12 09:34:26.941   \n",
       "\n",
       "           latitude  longitude  altitude  nsat  course  speed  pdop  \\\n",
       "0         61.050015  76.130463       0.0   3.0      14      2   0.0   \n",
       "1         61.044565  76.127673       0.0   5.0     356      4   0.0   \n",
       "2         61.044437  76.127673       0.0   5.0      22      4   0.0   \n",
       "3         61.044362  76.127567       0.0   5.0       8      2   0.0   \n",
       "4         61.044265  76.127608       0.0   5.0       8      6   0.0   \n",
       "...             ...        ...       ...   ...     ...    ...   ...   \n",
       "57321004  61.266212  75.195137      29.0  12.0       0      0   1.0   \n",
       "57321005  61.266213  75.195139      29.0  12.0       0      0   1.0   \n",
       "57321006  61.266215  75.195137      29.0  12.0       0      0   1.0   \n",
       "57321007  61.266216  75.195137      29.0  12.0       0      0   1.0   \n",
       "57321008  61.266214  75.195136      29.0  12.0       0      0   1.0   \n",
       "\n",
       "                                                  geom  \n",
       "0         POINT (76.13046333103685 61.050014987366744)  \n",
       "1         POINT (76.12767333074652 61.044564990104305)  \n",
       "2          POINT (76.12767333074652 61.04443666316672)  \n",
       "3          POINT (76.12756662911912 61.04436166608808)  \n",
       "4          POINT (76.12760832908741 61.04426498083497)  \n",
       "...                                                ...  \n",
       "57321004   POINT (75.19513748474306 61.26621165807969)  \n",
       "57321005   POINT (75.19513916112369 61.26621331350557)  \n",
       "57321006    POINT (75.19513748474306 61.2662149898862)  \n",
       "57321007   POINT (75.19513664655274 61.26621582807652)  \n",
       "57321008  POINT (75.19513580836242 61.266214151695884)  \n",
       "\n",
       "[57321009 rows x 11 columns]"
      ]
     },
     "metadata": {},
     "output_type": "display_data"
    },
    {
     "name": "stdout",
     "output_type": "stream",
     "text": [
      "<class 'pandas.core.frame.DataFrame'>\n",
      "RangeIndex: 57321009 entries, 0 to 57321008\n",
      "Data columns (total 11 columns):\n",
      " #   Column           Dtype  \n",
      "---  ------           -----  \n",
      " 0   tracker_code     int64  \n",
      " 1   navigation_time  object \n",
      " 2   received_time    object \n",
      " 3   latitude         float64\n",
      " 4   longitude        float64\n",
      " 5   altitude         float64\n",
      " 6   nsat             float64\n",
      " 7   course           int64  \n",
      " 8   speed            int64  \n",
      " 9   pdop             float64\n",
      " 10  geom             object \n",
      "dtypes: float64(5), int64(3), object(3)\n",
      "memory usage: 4.7+ GB\n"
     ]
    }
   ],
   "source": [
    "df = data.copy()\n",
    "display(df)\n",
    "df.info()"
   ]
  },
  {
   "cell_type": "code",
   "execution_count": 10,
   "metadata": {},
   "outputs": [
    {
     "data": {
      "text/plain": [
       "Index(['tracker_code', 'navigation_time', 'received_time', 'latitude',\n",
       "       'longitude', 'altitude', 'nsat', 'course', 'speed', 'pdop', 'geom'],\n",
       "      dtype='object')"
      ]
     },
     "execution_count": 10,
     "metadata": {},
     "output_type": "execute_result"
    }
   ],
   "source": [
    "df.columns"
   ]
  },
  {
   "cell_type": "code",
   "execution_count": 11,
   "metadata": {},
   "outputs": [
    {
     "data": {
      "text/plain": [
       "tracker_code              0\n",
       "navigation_time           0\n",
       "received_time             0\n",
       "latitude                  0\n",
       "longitude                 0\n",
       "altitude            3594814\n",
       "nsat                5026348\n",
       "course                    0\n",
       "speed                     0\n",
       "pdop               21517226\n",
       "geom                      0\n",
       "dtype: int64"
      ]
     },
     "execution_count": 11,
     "metadata": {},
     "output_type": "execute_result"
    }
   ],
   "source": [
    "df.isna().sum()"
   ]
  },
  {
   "cell_type": "markdown",
   "metadata": {},
   "source": [
    "# Сортировка датасета по времени (navigation_time)"
   ]
  },
  {
   "cell_type": "code",
   "execution_count": 12,
   "metadata": {},
   "outputs": [
    {
     "data": {
      "text/html": [
       "<div>\n",
       "<style scoped>\n",
       "    .dataframe tbody tr th:only-of-type {\n",
       "        vertical-align: middle;\n",
       "    }\n",
       "\n",
       "    .dataframe tbody tr th {\n",
       "        vertical-align: top;\n",
       "    }\n",
       "\n",
       "    .dataframe thead th {\n",
       "        text-align: right;\n",
       "    }\n",
       "</style>\n",
       "<table border=\"1\" class=\"dataframe\">\n",
       "  <thead>\n",
       "    <tr style=\"text-align: right;\">\n",
       "      <th></th>\n",
       "      <th>tracker_code</th>\n",
       "      <th>navigation_time</th>\n",
       "      <th>received_time</th>\n",
       "      <th>latitude</th>\n",
       "      <th>longitude</th>\n",
       "      <th>altitude</th>\n",
       "      <th>nsat</th>\n",
       "      <th>course</th>\n",
       "      <th>speed</th>\n",
       "      <th>pdop</th>\n",
       "      <th>geom</th>\n",
       "    </tr>\n",
       "  </thead>\n",
       "  <tbody>\n",
       "    <tr>\n",
       "      <th>0</th>\n",
       "      <td>236016544</td>\n",
       "      <td>2023-05-11</td>\n",
       "      <td>2023-05-11 00:00:12.302</td>\n",
       "      <td>65.945359</td>\n",
       "      <td>78.159539</td>\n",
       "      <td>8.0</td>\n",
       "      <td>15.0</td>\n",
       "      <td>0</td>\n",
       "      <td>0</td>\n",
       "      <td>NaN</td>\n",
       "      <td>POINT (78.159538567569 65.94535879230718)</td>\n",
       "    </tr>\n",
       "    <tr>\n",
       "      <th>1</th>\n",
       "      <td>651752</td>\n",
       "      <td>2023-05-11</td>\n",
       "      <td>2023-05-11 01:49:54.732</td>\n",
       "      <td>70.342662</td>\n",
       "      <td>68.851393</td>\n",
       "      <td>34.0</td>\n",
       "      <td>20.0</td>\n",
       "      <td>8</td>\n",
       "      <td>0</td>\n",
       "      <td>NaN</td>\n",
       "      <td>POINT (68.85139297434394 70.34266198061934)</td>\n",
       "    </tr>\n",
       "    <tr>\n",
       "      <th>2</th>\n",
       "      <td>6251723</td>\n",
       "      <td>2023-05-11</td>\n",
       "      <td>2023-05-11 00:01:02.046</td>\n",
       "      <td>61.019924</td>\n",
       "      <td>76.778961</td>\n",
       "      <td>63.0</td>\n",
       "      <td>12.0</td>\n",
       "      <td>0</td>\n",
       "      <td>0</td>\n",
       "      <td>NaN</td>\n",
       "      <td>POINT (76.77896116319553 61.01992414356673)</td>\n",
       "    </tr>\n",
       "    <tr>\n",
       "      <th>3</th>\n",
       "      <td>2407667</td>\n",
       "      <td>2023-05-11</td>\n",
       "      <td>2023-05-11 00:00:43.420</td>\n",
       "      <td>0.000000</td>\n",
       "      <td>0.000000</td>\n",
       "      <td>0.0</td>\n",
       "      <td>0.0</td>\n",
       "      <td>0</td>\n",
       "      <td>0</td>\n",
       "      <td>0.0</td>\n",
       "      <td>POINT (0 0)</td>\n",
       "    </tr>\n",
       "    <tr>\n",
       "      <th>4</th>\n",
       "      <td>2032407</td>\n",
       "      <td>2023-05-11</td>\n",
       "      <td>2023-05-11 00:02:08.300</td>\n",
       "      <td>64.446120</td>\n",
       "      <td>76.437412</td>\n",
       "      <td>-16384.0</td>\n",
       "      <td>15.0</td>\n",
       "      <td>0</td>\n",
       "      <td>5</td>\n",
       "      <td>1.0</td>\n",
       "      <td>POINT (76.43741164273523 64.4461199791278)</td>\n",
       "    </tr>\n",
       "  </tbody>\n",
       "</table>\n",
       "</div>"
      ],
      "text/plain": [
       "   tracker_code navigation_time            received_time   latitude  \\\n",
       "0     236016544      2023-05-11  2023-05-11 00:00:12.302  65.945359   \n",
       "1        651752      2023-05-11  2023-05-11 01:49:54.732  70.342662   \n",
       "2       6251723      2023-05-11  2023-05-11 00:01:02.046  61.019924   \n",
       "3       2407667      2023-05-11  2023-05-11 00:00:43.420   0.000000   \n",
       "4       2032407      2023-05-11  2023-05-11 00:02:08.300  64.446120   \n",
       "\n",
       "   longitude  altitude  nsat  course  speed  pdop  \\\n",
       "0  78.159539       8.0  15.0       0      0   NaN   \n",
       "1  68.851393      34.0  20.0       8      0   NaN   \n",
       "2  76.778961      63.0  12.0       0      0   NaN   \n",
       "3   0.000000       0.0   0.0       0      0   0.0   \n",
       "4  76.437412  -16384.0  15.0       0      5   1.0   \n",
       "\n",
       "                                          geom  \n",
       "0    POINT (78.159538567569 65.94535879230718)  \n",
       "1  POINT (68.85139297434394 70.34266198061934)  \n",
       "2  POINT (76.77896116319553 61.01992414356673)  \n",
       "3                                  POINT (0 0)  \n",
       "4   POINT (76.43741164273523 64.4461199791278)  "
      ]
     },
     "execution_count": 12,
     "metadata": {},
     "output_type": "execute_result"
    }
   ],
   "source": [
    "df['navigation_time'] = pd.to_datetime(df['navigation_time'])\n",
    "df = df.sort_values(by = 'navigation_time')\n",
    "df.reset_index(drop = True, inplace = True)\n",
    "df.head()"
   ]
  },
  {
   "cell_type": "markdown",
   "metadata": {},
   "source": [
    "# Очистка данных"
   ]
  },
  {
   "cell_type": "markdown",
   "metadata": {},
   "source": [
    "Отфильтруем датасет по минимальной и максимальной скорости машин так, чтобы она не была равна 0 и не превышала 170 км/ч."
   ]
  },
  {
   "cell_type": "code",
   "execution_count": 13,
   "metadata": {},
   "outputs": [],
   "source": [
    "df.drop(df[(df['speed'] == 0) | (df['speed'] > 170)].index, inplace = True)\n",
    "df.reset_index(drop = True, inplace = True)"
   ]
  },
  {
   "cell_type": "markdown",
   "metadata": {},
   "source": [
    "## Округление координат"
   ]
  },
  {
   "cell_type": "code",
   "execution_count": 14,
   "metadata": {},
   "outputs": [],
   "source": [
    "# Округляем координаты до 3-го знака после запятой.\n",
    "\n",
    "#df['latitude'] = df['latitude'].apply(lambda x: round(x, 3))\n",
    "#df['longitude'] = df['longitude'].apply(lambda x: round(x, 3))\n",
    "#df.head()"
   ]
  },
  {
   "cell_type": "markdown",
   "metadata": {},
   "source": [
    "## Поиск дублирующихся записей"
   ]
  },
  {
   "cell_type": "code",
   "execution_count": 15,
   "metadata": {},
   "outputs": [
    {
     "data": {
      "text/plain": [
       "geom\n",
       "POINT (76.5428683060554 60.9416133214118)       4928\n",
       "POINT (0 0)                                     4648\n",
       "POINT (111.80046499515895 60.25966666644897)    3647\n",
       "POINT (76.69303127487494 63.47563934127699)     3204\n",
       "POINT (76.56407988550237 66.06843658398567)     2513\n",
       "                                                ... \n",
       "POINT (67.09594831967166 63.47965249174266)        1\n",
       "POINT (73.73196996136848 61.41879915525643)        1\n",
       "POINT (54.03418913344717 52.93004582704279)        1\n",
       "POINT (80.82510099765497 63.43915297962705)        1\n",
       "POINT (68.99523083330021 60.98812915407776)        1\n",
       "Name: count, Length: 31680231, dtype: int64"
      ]
     },
     "execution_count": 15,
     "metadata": {},
     "output_type": "execute_result"
    }
   ],
   "source": [
    "df['geom'].value_counts()"
   ]
  },
  {
   "cell_type": "code",
   "execution_count": 16,
   "metadata": {},
   "outputs": [
    {
     "data": {
      "text/html": [
       "<div>\n",
       "<style scoped>\n",
       "    .dataframe tbody tr th:only-of-type {\n",
       "        vertical-align: middle;\n",
       "    }\n",
       "\n",
       "    .dataframe tbody tr th {\n",
       "        vertical-align: top;\n",
       "    }\n",
       "\n",
       "    .dataframe thead th {\n",
       "        text-align: right;\n",
       "    }\n",
       "</style>\n",
       "<table border=\"1\" class=\"dataframe\">\n",
       "  <thead>\n",
       "    <tr style=\"text-align: right;\">\n",
       "      <th></th>\n",
       "      <th>tracker_code</th>\n",
       "      <th>navigation_time</th>\n",
       "      <th>received_time</th>\n",
       "      <th>latitude</th>\n",
       "      <th>longitude</th>\n",
       "      <th>altitude</th>\n",
       "      <th>nsat</th>\n",
       "      <th>course</th>\n",
       "      <th>speed</th>\n",
       "      <th>pdop</th>\n",
       "      <th>geom</th>\n",
       "    </tr>\n",
       "  </thead>\n",
       "  <tbody>\n",
       "    <tr>\n",
       "      <th>8327</th>\n",
       "      <td>2408023</td>\n",
       "      <td>2023-05-11 00:00:48</td>\n",
       "      <td>2023-05-11 00:02:07.151</td>\n",
       "      <td>0.0</td>\n",
       "      <td>0.0</td>\n",
       "      <td>48.0</td>\n",
       "      <td>14.0</td>\n",
       "      <td>163</td>\n",
       "      <td>24</td>\n",
       "      <td>1.0</td>\n",
       "      <td>POINT (0 0)</td>\n",
       "    </tr>\n",
       "    <tr>\n",
       "      <th>9007</th>\n",
       "      <td>2140694</td>\n",
       "      <td>2023-05-11 00:00:52</td>\n",
       "      <td>2023-05-11 00:04:21.458</td>\n",
       "      <td>0.0</td>\n",
       "      <td>0.0</td>\n",
       "      <td>-16384.0</td>\n",
       "      <td>15.0</td>\n",
       "      <td>293</td>\n",
       "      <td>1</td>\n",
       "      <td>1.0</td>\n",
       "      <td>POINT (0 0)</td>\n",
       "    </tr>\n",
       "    <tr>\n",
       "      <th>16263</th>\n",
       "      <td>2060364405</td>\n",
       "      <td>2023-05-11 00:01:34</td>\n",
       "      <td>2023-05-11 00:52:13.765</td>\n",
       "      <td>0.0</td>\n",
       "      <td>0.0</td>\n",
       "      <td>70.0</td>\n",
       "      <td>12.0</td>\n",
       "      <td>309</td>\n",
       "      <td>95</td>\n",
       "      <td>1.0</td>\n",
       "      <td>POINT (0 0)</td>\n",
       "    </tr>\n",
       "    <tr>\n",
       "      <th>35824</th>\n",
       "      <td>2060364405</td>\n",
       "      <td>2023-05-11 00:03:27</td>\n",
       "      <td>2023-05-11 00:52:13.869</td>\n",
       "      <td>0.0</td>\n",
       "      <td>0.0</td>\n",
       "      <td>71.0</td>\n",
       "      <td>12.0</td>\n",
       "      <td>266</td>\n",
       "      <td>87</td>\n",
       "      <td>1.0</td>\n",
       "      <td>POINT (0 0)</td>\n",
       "    </tr>\n",
       "    <tr>\n",
       "      <th>51775</th>\n",
       "      <td>2060364405</td>\n",
       "      <td>2023-05-11 00:05:00</td>\n",
       "      <td>2023-05-11 00:52:13.975</td>\n",
       "      <td>0.0</td>\n",
       "      <td>0.0</td>\n",
       "      <td>79.0</td>\n",
       "      <td>12.0</td>\n",
       "      <td>258</td>\n",
       "      <td>93</td>\n",
       "      <td>1.0</td>\n",
       "      <td>POINT (0 0)</td>\n",
       "    </tr>\n",
       "  </tbody>\n",
       "</table>\n",
       "</div>"
      ],
      "text/plain": [
       "       tracker_code     navigation_time            received_time  latitude  \\\n",
       "8327        2408023 2023-05-11 00:00:48  2023-05-11 00:02:07.151       0.0   \n",
       "9007        2140694 2023-05-11 00:00:52  2023-05-11 00:04:21.458       0.0   \n",
       "16263    2060364405 2023-05-11 00:01:34  2023-05-11 00:52:13.765       0.0   \n",
       "35824    2060364405 2023-05-11 00:03:27  2023-05-11 00:52:13.869       0.0   \n",
       "51775    2060364405 2023-05-11 00:05:00  2023-05-11 00:52:13.975       0.0   \n",
       "\n",
       "       longitude  altitude  nsat  course  speed  pdop         geom  \n",
       "8327         0.0      48.0  14.0     163     24   1.0  POINT (0 0)  \n",
       "9007         0.0  -16384.0  15.0     293      1   1.0  POINT (0 0)  \n",
       "16263        0.0      70.0  12.0     309     95   1.0  POINT (0 0)  \n",
       "35824        0.0      71.0  12.0     266     87   1.0  POINT (0 0)  \n",
       "51775        0.0      79.0  12.0     258     93   1.0  POINT (0 0)  "
      ]
     },
     "execution_count": 16,
     "metadata": {},
     "output_type": "execute_result"
    }
   ],
   "source": [
    "df[df.geom == 'POINT (0 0)'].head()"
   ]
  },
  {
   "cell_type": "markdown",
   "metadata": {},
   "source": [
    "Значения столбца **geom** равные 'POINT (0 0)' не позволяют определить местоположение машины, поэтому соответствующие им строки следует удалить."
   ]
  },
  {
   "cell_type": "code",
   "execution_count": 17,
   "metadata": {},
   "outputs": [],
   "source": [
    "df.drop(df[df['geom'] == 'POINT (0 0)'].index, axis = 0, inplace = True)\n",
    "df.reset_index(drop = True, inplace = True)"
   ]
  },
  {
   "cell_type": "code",
   "execution_count": 18,
   "metadata": {},
   "outputs": [
    {
     "data": {
      "text/plain": [
       "tracker_code  latitude   longitude \n",
       "361432        60.941613  76.542868     4928\n",
       "472158        60.259667  111.800465    3647\n",
       "153104209     63.475639  76.693031     3204\n",
       "83888885      66.068437  76.564080     2513\n",
       "472172        61.083878  72.537522     1731\n",
       "                                       ... \n",
       "2026167       61.194129  74.486613        1\n",
       "              61.194094  74.486504        1\n",
       "              61.194050  74.486451        1\n",
       "              61.194015  74.486363        1\n",
       "4294967295    57.131278  65.561290        1\n",
       "Name: count, Length: 32263271, dtype: int64"
      ]
     },
     "execution_count": 18,
     "metadata": {},
     "output_type": "execute_result"
    }
   ],
   "source": [
    "# Осуществляем поиск дубликатов по сочетанию столбцов tracker_code, latitude и longitude\n",
    "\n",
    "df[['tracker_code', 'latitude', 'longitude']].value_counts()"
   ]
  },
  {
   "cell_type": "markdown",
   "metadata": {},
   "source": [
    "Визуализируем один из таких треков."
   ]
  },
  {
   "cell_type": "code",
   "execution_count": 19,
   "metadata": {},
   "outputs": [],
   "source": [
    "#track(tracker_code = 1400015434)"
   ]
  },
  {
   "cell_type": "markdown",
   "metadata": {},
   "source": [
    "Посмотрим как трек выглядит на реальной карте."
   ]
  },
  {
   "cell_type": "code",
   "execution_count": 20,
   "metadata": {},
   "outputs": [],
   "source": [
    "#track_on_map(tracker_code = 1400015434)"
   ]
  },
  {
   "cell_type": "markdown",
   "metadata": {},
   "source": [
    "Предположим, что дубликаты соответствуют моментам, когда машина была без движения. Удалим их."
   ]
  },
  {
   "cell_type": "code",
   "execution_count": 21,
   "metadata": {},
   "outputs": [],
   "source": [
    "df.drop_duplicates(subset = ['tracker_code', 'latitude', 'longitude'], inplace = True)"
   ]
  },
  {
   "cell_type": "markdown",
   "metadata": {},
   "source": [
    "Снова визуализируем трек."
   ]
  },
  {
   "cell_type": "code",
   "execution_count": 22,
   "metadata": {},
   "outputs": [],
   "source": [
    "#track(tracker_code = 1400015434)"
   ]
  },
  {
   "cell_type": "code",
   "execution_count": 23,
   "metadata": {},
   "outputs": [],
   "source": [
    "#track_on_map(tracker_code = 1400015434)"
   ]
  },
  {
   "cell_type": "markdown",
   "metadata": {},
   "source": [
    "Визуально ничего не изменилось, значит потерь, искажающих анализ, не было. В результате данные были очищены от лишней информации и датасет был уменьшен. Проверим есть ли в датасете дублирующиеся записи без учёта столбца tracker_code."
   ]
  },
  {
   "cell_type": "code",
   "execution_count": 24,
   "metadata": {},
   "outputs": [
    {
     "data": {
      "text/plain": [
       "navigation_time      latitude   longitude  altitude  speed\n",
       "2023-05-11 08:37:02  63.823100  76.791890  56.0      14       5\n",
       "2023-05-11 10:51:04  63.783921  76.738925  53.0      14       5\n",
       "2023-05-11 09:36:17  63.770691  76.749250  61.0      52       5\n",
       "2023-05-11 15:34:50  63.813201  76.778331  64.0      42       5\n",
       "2023-05-11 15:30:18  63.792840  76.746330  62.0      24       5\n",
       "                                                             ..\n",
       "2023-05-11 06:05:44  61.023362  76.326490  39.0      53       1\n",
       "                     61.018734  76.779007  42.0      14       1\n",
       "                     61.018392  76.814489  24.0      63       1\n",
       "                     61.008347  72.321297  35.0      28       1\n",
       "2023-05-11 23:59:59  70.555232  68.303349  1.0       32       1\n",
       "Name: count, Length: 30659222, dtype: int64"
      ]
     },
     "execution_count": 24,
     "metadata": {},
     "output_type": "execute_result"
    }
   ],
   "source": [
    "# Осуществляем поиск дубликатов по сочетанию столбцов navigation_time, latitude, longitude, altitude и speed\n",
    "\n",
    "df[['navigation_time', 'latitude', 'longitude', 'altitude', 'speed']].value_counts()"
   ]
  },
  {
   "cell_type": "code",
   "execution_count": 25,
   "metadata": {},
   "outputs": [
    {
     "data": {
      "text/plain": [
       "navigation_time      latitude   longitude\n",
       "2023-05-11 18:00:16  63.816745  76.783200    5\n",
       "2023-05-11 08:29:39  63.791755  76.744148    5\n",
       "2023-05-11 05:23:06  63.710923  76.811688    5\n",
       "2023-05-11 10:51:24  63.783653  76.738275    5\n",
       "2023-05-11 08:34:16  63.814271  76.779793    5\n",
       "                                            ..\n",
       "2023-05-11 06:05:09  60.495621  77.263664    1\n",
       "                     60.482463  72.342507    1\n",
       "                     60.470085  72.700775    1\n",
       "                     60.413855  74.946471    1\n",
       "2023-05-11 23:59:59  70.555232  68.303349    1\n",
       "Name: count, Length: 31849395, dtype: int64"
      ]
     },
     "execution_count": 25,
     "metadata": {},
     "output_type": "execute_result"
    }
   ],
   "source": [
    "# Осуществляем поиск дубликатов по сочетанию столбцов navigation_time, latitude и longitude\n",
    "\n",
    "ser = df[['navigation_time', 'latitude', 'longitude']].value_counts()\n",
    "ser"
   ]
  },
  {
   "cell_type": "code",
   "execution_count": 26,
   "metadata": {},
   "outputs": [
    {
     "data": {
      "text/plain": [
       "navigation_time      latitude   longitude\n",
       "2023-05-11 18:00:16  63.816745  76.783200    5\n",
       "2023-05-11 08:29:39  63.791755  76.744148    5\n",
       "2023-05-11 05:23:06  63.710923  76.811688    5\n",
       "2023-05-11 10:51:24  63.783653  76.738275    5\n",
       "2023-05-11 08:34:16  63.814271  76.779793    5\n",
       "2023-05-11 06:26:42  63.780468  76.747480    5\n",
       "2023-05-11 05:19:52  63.729103  76.843241    5\n",
       "2023-05-11 12:11:28  63.809298  76.772970    5\n",
       "2023-05-11 04:53:09  63.783901  76.738728    5\n",
       "2023-05-11 09:34:03  63.776193  76.713830    5\n",
       "2023-05-11 12:23:15  63.783960  76.739981    5\n",
       "2023-05-11 05:49:40  63.701996  76.781850    5\n",
       "2023-05-11 08:21:51  63.797683  76.755741    5\n",
       "2023-05-11 08:12:40  63.832458  76.800838    5\n",
       "2023-05-11 15:32:19  63.799243  76.758766    5\n",
       "2023-05-11 12:23:05  63.784053  76.740630    5\n",
       "2023-05-11 08:23:13  63.792235  76.745065    5\n",
       "2023-05-11 09:13:15  63.828113  76.798726    5\n",
       "2023-05-11 09:18:34  63.809386  76.772868    5\n",
       "2023-05-11 08:38:31  63.827815  76.798278    5\n",
       "Name: count, dtype: int64"
      ]
     },
     "execution_count": 26,
     "metadata": {},
     "output_type": "execute_result"
    }
   ],
   "source": [
    "ser[:20]"
   ]
  },
  {
   "cell_type": "markdown",
   "metadata": {},
   "source": [
    "Посмотрим tracker_code дублирующихся записей на первом примере."
   ]
  },
  {
   "cell_type": "code",
   "execution_count": 27,
   "metadata": {},
   "outputs": [
    {
     "data": {
      "text/plain": [
       "(Timestamp('2023-05-11 18:00:16'), 63.81674499805475, 76.7831999754494)"
      ]
     },
     "execution_count": 27,
     "metadata": {},
     "output_type": "execute_result"
    }
   ],
   "source": [
    "ser.index[0]"
   ]
  },
  {
   "cell_type": "code",
   "execution_count": 28,
   "metadata": {},
   "outputs": [
    {
     "data": {
      "text/plain": [
       "[102059784, 1012059784, 1022059784, 1032059784, 1042059784]"
      ]
     },
     "execution_count": 28,
     "metadata": {},
     "output_type": "execute_result"
    }
   ],
   "source": [
    "ser_dup1 = df[(df['latitude'] == 63.7910199942512) & (df['longitude'] == 76.74276596790709)]['tracker_code']\n",
    "list_dup1 = list(ser_dup1)\n",
    "list_dup1.sort()\n",
    "list_dup1"
   ]
  },
  {
   "cell_type": "markdown",
   "metadata": {},
   "source": [
    "Визуализируем эти треки."
   ]
  },
  {
   "cell_type": "code",
   "execution_count": 29,
   "metadata": {},
   "outputs": [
    {
     "data": {
      "image/png": "[encoded data removed]",
      "text/plain": [
       "<Figure size 2000x1500 with 1 Axes>"
      ]
     },
     "metadata": {},
     "output_type": "display_data"
    },
    {
     "data": {
      "image/png": "[encoded data removed]",
      "text/plain": [
       "<Figure size 2000x1500 with 1 Axes>"
      ]
     },
     "metadata": {},
     "output_type": "display_data"
    },
    {
     "data": {
      "image/png": "[encoded data removed]",
      "text/plain": [
       "<Figure size 2000x1500 with 1 Axes>"
      ]
     },
     "metadata": {},
     "output_type": "display_data"
    },
    {
     "data": {
      "image/png": "[encoded data removed]",
      "text/plain": [
       "<Figure size 2000x1500 with 1 Axes>"
      ]
     },
     "metadata": {},
     "output_type": "display_data"
    },
    {
     "data": {
      "image/png": "[encoded data removed]",
      "text/plain": [
       "<Figure size 2000x1500 with 1 Axes>"
      ]
     },
     "metadata": {},
     "output_type": "display_data"
    }
   ],
   "source": [
    "for tracker_code in list_dup1: \n",
    "    track(tracker_code)"
   ]
  },
  {
   "cell_type": "markdown",
   "metadata": {},
   "source": [
    "На вышеприведённом примере видно, что tracker_code у треков отличаются одной цифрой, а геометрии треков полностью одинаковы."
   ]
  },
  {
   "cell_type": "markdown",
   "metadata": {},
   "source": [
    "Посмотрим на второй пример."
   ]
  },
  {
   "cell_type": "code",
   "execution_count": 30,
   "metadata": {},
   "outputs": [
    {
     "data": {
      "text/plain": [
       "(Timestamp('2023-05-11 08:29:39'), 63.791754982385726, 76.74414797610234)"
      ]
     },
     "execution_count": 30,
     "metadata": {},
     "output_type": "execute_result"
    }
   ],
   "source": [
    "ser.index[1]"
   ]
  },
  {
   "cell_type": "code",
   "execution_count": 31,
   "metadata": {},
   "outputs": [
    {
     "data": {
      "text/plain": [
       "[]"
      ]
     },
     "execution_count": 31,
     "metadata": {},
     "output_type": "execute_result"
    }
   ],
   "source": [
    "ser_dup2 = df[(df['latitude'] == 63.78092799423749) & (df['longitude'] == 76.74785499850938)]['tracker_code']\n",
    "list_dup2 = list(ser_dup2)\n",
    "list_dup2.sort()\n",
    "list_dup2"
   ]
  },
  {
   "cell_type": "code",
   "execution_count": 32,
   "metadata": {},
   "outputs": [],
   "source": [
    "for tracker_code in list_dup2: \n",
    "    track(tracker_code)"
   ]
  },
  {
   "cell_type": "markdown",
   "metadata": {},
   "source": [
    "По второму примеру видно, что это те же самые 5 треков из первого примера."
   ]
  },
  {
   "cell_type": "code",
   "execution_count": 33,
   "metadata": {},
   "outputs": [
    {
     "ename": "SyntaxError",
     "evalue": "incomplete input (2565058926.py, line 1)",
     "output_type": "error",
     "traceback": [
      "\u001b[1;36m  Cell \u001b[1;32mIn[33], line 1\u001b[1;36m\u001b[0m\n\u001b[1;33m    len(gh\u001b[0m\n\u001b[1;37m          ^\u001b[0m\n\u001b[1;31mSyntaxError\u001b[0m\u001b[1;31m:\u001b[0m incomplete input\n"
     ]
    }
   ],
   "source": [
    "len(gh"
   ]
  },
  {
   "cell_type": "markdown",
   "metadata": {},
   "source": [
    "# Группировка датасета по идентификатору трека"
   ]
  },
  {
   "cell_type": "code",
   "execution_count": null,
   "metadata": {},
   "outputs": [],
   "source": [
    "df.head()"
   ]
  },
  {
   "cell_type": "markdown",
   "metadata": {},
   "source": [
    "### Расчёт среднего количества спутников nsat для каждого трека"
   ]
  },
  {
   "cell_type": "markdown",
   "metadata": {},
   "source": [
    "Создаётся датафрейм с группировкой по столбцу **tracker_code** и агрегированием столбца **nsat** по среднему значению."
   ]
  },
  {
   "cell_type": "code",
   "execution_count": null,
   "metadata": {},
   "outputs": [],
   "source": [
    "tracks = pd.DataFrame(df.groupby(['tracker_code'])['nsat'].mean())\n",
    "tracks.columns = ['nsat_mean']\n",
    "tracks['nsat_mean'] = tracks['nsat_mean'].apply(lambda x: round(x, 3))\n",
    "\n",
    "# Перевод индексов в отдельный столбец\n",
    "tracks.reset_index(inplace = True)\n",
    "\n",
    "tracks"
   ]
  },
  {
   "cell_type": "markdown",
   "metadata": {},
   "source": [
    "Таким образом был получен новый датафрейм, к которому будут прибавляться другие колонки, агрегированные различными способами относительно каждого трека."
   ]
  },
  {
   "cell_type": "markdown",
   "metadata": {},
   "source": [
    "### Расчёт средней скорости speed для каждого трека"
   ]
  },
  {
   "cell_type": "code",
   "execution_count": null,
   "metadata": {},
   "outputs": [],
   "source": [
    "sub_df = pd.DataFrame(df.groupby(['tracker_code'])['speed'].mean())\n",
    "sub_df.columns = ['speed_mean']\n",
    "sub_df.reset_index(drop = True, inplace = True)\n",
    "tracks = pd.concat([tracks, sub_df], axis = 1)\n",
    "tracks['speed_mean'] = tracks['speed_mean'].apply(lambda x: round(x, 3))\n",
    "tracks"
   ]
  },
  {
   "cell_type": "markdown",
   "metadata": {},
   "source": [
    "### Расчёт длин треков"
   ]
  },
  {
   "cell_type": "code",
   "execution_count": null,
   "metadata": {},
   "outputs": [],
   "source": [
    "# Время работы кода 35 мин\n",
    "\n",
    "tracker_codes = df['tracker_code'].unique()\n",
    "tracker_codes.sort()\n",
    "\n",
    "track_lens = []\n",
    "\n",
    "for tracker_code in tracker_codes:\n",
    "    \n",
    "    coordinates = list(zip(df[df.tracker_code == tracker_code]['longitude'], \n",
    "                           df[df.tracker_code == tracker_code]['latitude']))\n",
    "    \n",
    "    length = 0\n",
    "    for i in range(1, len(coordinates)):\n",
    "        \n",
    "        lon1, lat1 = coordinates[i-1]\n",
    "        lon2, lat2 = coordinates[i]\n",
    "        \n",
    "        length += haversine(lon1, lat1, lon2, lat2)\n",
    "    \n",
    "    track_lens.append(round(length, 3))\n",
    "    \n",
    "tracks['track_length'] = pd.Series(track_lens)\n",
    "\n",
    "# Округлим значения в столбце до 3-х знаков после запятой\n",
    "tracks['track_length'] = tracks['track_length'].apply(lambda x: round(x, 3))\n",
    "tracks"
   ]
  },
  {
   "cell_type": "markdown",
   "metadata": {},
   "source": [
    "### Расчёт времени работы машины"
   ]
  },
  {
   "cell_type": "code",
   "execution_count": null,
   "metadata": {},
   "outputs": [],
   "source": [
    "sub_df = pd.DataFrame(df.groupby(['tracker_code'])['navigation_time'].min())\n",
    "sub_df.columns = ['navigation_time_min']\n",
    "sub_df['navigation_time_max'] = df.groupby(['tracker_code'])['navigation_time'].max()\n",
    "sub_df.reset_index(drop = True, inplace = True)\n",
    "tracks = pd.concat([tracks, sub_df], axis = 1)\n",
    "tracks['navigation_time'] = tracks['navigation_time_max'] - tracks['navigation_time_min']\n",
    "#tracks.drop(['navigation_time_max', 'navigation_time_min'], axis = 1, inplace = True)\n",
    "tracks"
   ]
  },
  {
   "cell_type": "code",
   "execution_count": null,
   "metadata": {},
   "outputs": [],
   "source": [
    "tracks.to_csv('tracks.csv', index = False)"
   ]
  },
  {
   "cell_type": "code",
   "execution_count": null,
   "metadata": {},
   "outputs": [],
   "source": [
    "#len(gh"
   ]
  },
  {
   "cell_type": "markdown",
   "metadata": {},
   "source": [
    "# Загрузка  датасета tracks из файла"
   ]
  },
  {
   "cell_type": "code",
   "execution_count": 34,
   "metadata": {},
   "outputs": [],
   "source": [
    "tracks = pd.read_csv('tracks.csv')"
   ]
  },
  {
   "cell_type": "code",
   "execution_count": 35,
   "metadata": {},
   "outputs": [
    {
     "name": "stdout",
     "output_type": "stream",
     "text": [
      "<class 'pandas.core.frame.DataFrame'>\n",
      "RangeIndex: 26424 entries, 0 to 26423\n",
      "Data columns (total 7 columns):\n",
      " #   Column               Non-Null Count  Dtype  \n",
      "---  ------               --------------  -----  \n",
      " 0   tracker_code         26424 non-null  int64  \n",
      " 1   nsat_mean            24471 non-null  float64\n",
      " 2   speed_mean           26424 non-null  float64\n",
      " 3   track_length         26424 non-null  float64\n",
      " 4   navigation_time_min  26424 non-null  object \n",
      " 5   navigation_time_max  26424 non-null  object \n",
      " 6   navigation_time      26424 non-null  object \n",
      "dtypes: float64(3), int64(1), object(3)\n",
      "memory usage: 1.4+ MB\n"
     ]
    },
    {
     "data": {
      "text/html": [
       "<div>\n",
       "<style scoped>\n",
       "    .dataframe tbody tr th:only-of-type {\n",
       "        vertical-align: middle;\n",
       "    }\n",
       "\n",
       "    .dataframe tbody tr th {\n",
       "        vertical-align: top;\n",
       "    }\n",
       "\n",
       "    .dataframe thead th {\n",
       "        text-align: right;\n",
       "    }\n",
       "</style>\n",
       "<table border=\"1\" class=\"dataframe\">\n",
       "  <thead>\n",
       "    <tr style=\"text-align: right;\">\n",
       "      <th></th>\n",
       "      <th>tracker_code</th>\n",
       "      <th>nsat_mean</th>\n",
       "      <th>speed_mean</th>\n",
       "      <th>track_length</th>\n",
       "      <th>navigation_time_min</th>\n",
       "      <th>navigation_time_max</th>\n",
       "      <th>navigation_time</th>\n",
       "    </tr>\n",
       "  </thead>\n",
       "  <tbody>\n",
       "    <tr>\n",
       "      <th>0</th>\n",
       "      <td>0</td>\n",
       "      <td>14.911</td>\n",
       "      <td>41.265</td>\n",
       "      <td>3.752681e+07</td>\n",
       "      <td>2023-05-11 00:00:02</td>\n",
       "      <td>2023-05-11 23:59:55</td>\n",
       "      <td>0 days 23:59:53</td>\n",
       "    </tr>\n",
       "    <tr>\n",
       "      <th>1</th>\n",
       "      <td>4</td>\n",
       "      <td>18.493</td>\n",
       "      <td>32.364</td>\n",
       "      <td>3.484895e+04</td>\n",
       "      <td>2023-05-11 02:28:27</td>\n",
       "      <td>2023-05-11 22:07:58</td>\n",
       "      <td>0 days 19:39:31</td>\n",
       "    </tr>\n",
       "    <tr>\n",
       "      <th>2</th>\n",
       "      <td>9</td>\n",
       "      <td>18.171</td>\n",
       "      <td>32.720</td>\n",
       "      <td>1.288970e+02</td>\n",
       "      <td>2023-05-11 02:26:25</td>\n",
       "      <td>2023-05-11 12:29:45</td>\n",
       "      <td>0 days 10:03:20</td>\n",
       "    </tr>\n",
       "    <tr>\n",
       "      <th>3</th>\n",
       "      <td>59</td>\n",
       "      <td>15.465</td>\n",
       "      <td>26.767</td>\n",
       "      <td>7.955900e+01</td>\n",
       "      <td>2023-05-11 01:50:57</td>\n",
       "      <td>2023-05-11 22:57:40</td>\n",
       "      <td>0 days 21:06:43</td>\n",
       "    </tr>\n",
       "    <tr>\n",
       "      <th>4</th>\n",
       "      <td>204</td>\n",
       "      <td>18.902</td>\n",
       "      <td>27.952</td>\n",
       "      <td>5.147600e+01</td>\n",
       "      <td>2023-05-11 02:36:59</td>\n",
       "      <td>2023-05-11 12:38:40</td>\n",
       "      <td>0 days 10:01:41</td>\n",
       "    </tr>\n",
       "  </tbody>\n",
       "</table>\n",
       "</div>"
      ],
      "text/plain": [
       "   tracker_code  nsat_mean  speed_mean  track_length  navigation_time_min  \\\n",
       "0             0     14.911      41.265  3.752681e+07  2023-05-11 00:00:02   \n",
       "1             4     18.493      32.364  3.484895e+04  2023-05-11 02:28:27   \n",
       "2             9     18.171      32.720  1.288970e+02  2023-05-11 02:26:25   \n",
       "3            59     15.465      26.767  7.955900e+01  2023-05-11 01:50:57   \n",
       "4           204     18.902      27.952  5.147600e+01  2023-05-11 02:36:59   \n",
       "\n",
       "   navigation_time_max  navigation_time  \n",
       "0  2023-05-11 23:59:55  0 days 23:59:53  \n",
       "1  2023-05-11 22:07:58  0 days 19:39:31  \n",
       "2  2023-05-11 12:29:45  0 days 10:03:20  \n",
       "3  2023-05-11 22:57:40  0 days 21:06:43  \n",
       "4  2023-05-11 12:38:40  0 days 10:01:41  "
      ]
     },
     "execution_count": 35,
     "metadata": {},
     "output_type": "execute_result"
    }
   ],
   "source": [
    "tracks.info()\n",
    "tracks.head()"
   ]
  },
  {
   "cell_type": "code",
   "execution_count": 36,
   "metadata": {},
   "outputs": [
    {
     "data": {
      "text/plain": [
       "tracker_code              0\n",
       "nsat_mean              1953\n",
       "speed_mean                0\n",
       "track_length              0\n",
       "navigation_time_min       0\n",
       "navigation_time_max       0\n",
       "navigation_time           0\n",
       "dtype: int64"
      ]
     },
     "execution_count": 36,
     "metadata": {},
     "output_type": "execute_result"
    }
   ],
   "source": [
    "tracks.isna().sum()"
   ]
  },
  {
   "cell_type": "markdown",
   "metadata": {},
   "source": [
    "# EDA датасета tracks"
   ]
  },
  {
   "cell_type": "markdown",
   "metadata": {},
   "source": [
    "### track_length"
   ]
  },
  {
   "cell_type": "code",
   "execution_count": 37,
   "metadata": {},
   "outputs": [
    {
     "data": {
      "text/plain": [
       "<Axes: >"
      ]
     },
     "execution_count": 37,
     "metadata": {},
     "output_type": "execute_result"
    },
    {
     "data": {
      "image/png": "[encoded data removed]",
      "text/plain": [
       "<Figure size 1000x500 with 1 Axes>"
      ]
     },
     "metadata": {},
     "output_type": "display_data"
    }
   ],
   "source": [
    "plt.figure(figsize = (10,5))\n",
    "tracks.track_length.hist(bins=20)"
   ]
  },
  {
   "cell_type": "markdown",
   "metadata": {},
   "source": [
    "Визуально у данного столбца видны выбросы. Проанализируем их."
   ]
  },
  {
   "cell_type": "code",
   "execution_count": 38,
   "metadata": {},
   "outputs": [
    {
     "data": {
      "text/html": [
       "<div>\n",
       "<style scoped>\n",
       "    .dataframe tbody tr th:only-of-type {\n",
       "        vertical-align: middle;\n",
       "    }\n",
       "\n",
       "    .dataframe tbody tr th {\n",
       "        vertical-align: top;\n",
       "    }\n",
       "\n",
       "    .dataframe thead th {\n",
       "        text-align: right;\n",
       "    }\n",
       "</style>\n",
       "<table border=\"1\" class=\"dataframe\">\n",
       "  <thead>\n",
       "    <tr style=\"text-align: right;\">\n",
       "      <th></th>\n",
       "      <th>tracker_code</th>\n",
       "      <th>nsat_mean</th>\n",
       "      <th>speed_mean</th>\n",
       "      <th>track_length</th>\n",
       "      <th>navigation_time_min</th>\n",
       "      <th>navigation_time_max</th>\n",
       "      <th>navigation_time</th>\n",
       "    </tr>\n",
       "  </thead>\n",
       "  <tbody>\n",
       "    <tr>\n",
       "      <th>0</th>\n",
       "      <td>0</td>\n",
       "      <td>14.911</td>\n",
       "      <td>41.265</td>\n",
       "      <td>3.752681e+07</td>\n",
       "      <td>2023-05-11 00:00:02</td>\n",
       "      <td>2023-05-11 23:59:55</td>\n",
       "      <td>0 days 23:59:53</td>\n",
       "    </tr>\n",
       "    <tr>\n",
       "      <th>1</th>\n",
       "      <td>4</td>\n",
       "      <td>18.493</td>\n",
       "      <td>32.364</td>\n",
       "      <td>3.484895e+04</td>\n",
       "      <td>2023-05-11 02:28:27</td>\n",
       "      <td>2023-05-11 22:07:58</td>\n",
       "      <td>0 days 19:39:31</td>\n",
       "    </tr>\n",
       "    <tr>\n",
       "      <th>37</th>\n",
       "      <td>1203</td>\n",
       "      <td>3.323</td>\n",
       "      <td>35.422</td>\n",
       "      <td>1.302126e+04</td>\n",
       "      <td>2023-05-11 03:07:42</td>\n",
       "      <td>2023-05-11 20:25:22</td>\n",
       "      <td>0 days 17:17:40</td>\n",
       "    </tr>\n",
       "    <tr>\n",
       "      <th>133</th>\n",
       "      <td>10014</td>\n",
       "      <td>18.314</td>\n",
       "      <td>34.784</td>\n",
       "      <td>1.186964e+04</td>\n",
       "      <td>2023-05-11 01:38:25</td>\n",
       "      <td>2023-05-11 16:19:26</td>\n",
       "      <td>0 days 14:41:01</td>\n",
       "    </tr>\n",
       "    <tr>\n",
       "      <th>183</th>\n",
       "      <td>19973</td>\n",
       "      <td>NaN</td>\n",
       "      <td>23.577</td>\n",
       "      <td>1.751439e+05</td>\n",
       "      <td>2023-05-11 00:00:00</td>\n",
       "      <td>2023-05-11 23:59:11</td>\n",
       "      <td>0 days 23:59:11</td>\n",
       "    </tr>\n",
       "    <tr>\n",
       "      <th>1011</th>\n",
       "      <td>159903</td>\n",
       "      <td>13.614</td>\n",
       "      <td>41.371</td>\n",
       "      <td>8.969756e+03</td>\n",
       "      <td>2023-05-11 01:59:08</td>\n",
       "      <td>2023-05-11 11:09:10</td>\n",
       "      <td>0 days 09:10:02</td>\n",
       "    </tr>\n",
       "    <tr>\n",
       "      <th>3293</th>\n",
       "      <td>418404</td>\n",
       "      <td>11.614</td>\n",
       "      <td>13.477</td>\n",
       "      <td>2.021931e+03</td>\n",
       "      <td>2023-05-11 00:10:49</td>\n",
       "      <td>2023-05-11 23:57:02</td>\n",
       "      <td>0 days 23:46:13</td>\n",
       "    </tr>\n",
       "    <tr>\n",
       "      <th>3976</th>\n",
       "      <td>439654</td>\n",
       "      <td>121.752</td>\n",
       "      <td>66.773</td>\n",
       "      <td>6.339228e+04</td>\n",
       "      <td>2023-05-11 00:00:17</td>\n",
       "      <td>2023-05-11 23:59:13</td>\n",
       "      <td>0 days 23:58:56</td>\n",
       "    </tr>\n",
       "    <tr>\n",
       "      <th>4017</th>\n",
       "      <td>440154</td>\n",
       "      <td>12.052</td>\n",
       "      <td>13.346</td>\n",
       "      <td>1.902250e+03</td>\n",
       "      <td>2023-05-11 03:50:22</td>\n",
       "      <td>2023-05-11 12:25:39</td>\n",
       "      <td>0 days 08:35:17</td>\n",
       "    </tr>\n",
       "    <tr>\n",
       "      <th>13163</th>\n",
       "      <td>33310225</td>\n",
       "      <td>NaN</td>\n",
       "      <td>16.766</td>\n",
       "      <td>4.350460e+04</td>\n",
       "      <td>2023-05-11 00:11:41</td>\n",
       "      <td>2023-05-11 23:03:27</td>\n",
       "      <td>0 days 22:51:46</td>\n",
       "    </tr>\n",
       "  </tbody>\n",
       "</table>\n",
       "</div>"
      ],
      "text/plain": [
       "       tracker_code  nsat_mean  speed_mean  track_length  navigation_time_min  \\\n",
       "0                 0     14.911      41.265  3.752681e+07  2023-05-11 00:00:02   \n",
       "1                 4     18.493      32.364  3.484895e+04  2023-05-11 02:28:27   \n",
       "37             1203      3.323      35.422  1.302126e+04  2023-05-11 03:07:42   \n",
       "133           10014     18.314      34.784  1.186964e+04  2023-05-11 01:38:25   \n",
       "183           19973        NaN      23.577  1.751439e+05  2023-05-11 00:00:00   \n",
       "1011         159903     13.614      41.371  8.969756e+03  2023-05-11 01:59:08   \n",
       "3293         418404     11.614      13.477  2.021931e+03  2023-05-11 00:10:49   \n",
       "3976         439654    121.752      66.773  6.339228e+04  2023-05-11 00:00:17   \n",
       "4017         440154     12.052      13.346  1.902250e+03  2023-05-11 03:50:22   \n",
       "13163      33310225        NaN      16.766  4.350460e+04  2023-05-11 00:11:41   \n",
       "\n",
       "       navigation_time_max  navigation_time  \n",
       "0      2023-05-11 23:59:55  0 days 23:59:53  \n",
       "1      2023-05-11 22:07:58  0 days 19:39:31  \n",
       "37     2023-05-11 20:25:22  0 days 17:17:40  \n",
       "133    2023-05-11 16:19:26  0 days 14:41:01  \n",
       "183    2023-05-11 23:59:11  0 days 23:59:11  \n",
       "1011   2023-05-11 11:09:10  0 days 09:10:02  \n",
       "3293   2023-05-11 23:57:02  0 days 23:46:13  \n",
       "3976   2023-05-11 23:59:13  0 days 23:58:56  \n",
       "4017   2023-05-11 12:25:39  0 days 08:35:17  \n",
       "13163  2023-05-11 23:03:27  0 days 22:51:46  "
      ]
     },
     "execution_count": 38,
     "metadata": {},
     "output_type": "execute_result"
    }
   ],
   "source": [
    "#tracks[(tracks['track_length'] > 1300) & (tracks['track_length'] < 1400)]\n",
    "tracks[tracks['track_length'] > 1400][:10]"
   ]
  },
  {
   "cell_type": "code",
   "execution_count": 39,
   "metadata": {},
   "outputs": [
    {
     "name": "stdout",
     "output_type": "stream",
     "text": [
      "Трек: 10014, Длина: 11869.643, Время работы: 0 days 14:41:01, Средняя скорость: 34.784\n"
     ]
    },
    {
     "data": {
      "application/vnd.jupyter.widget-view+json": {
       "model_id": "5cb5bb01b91943b0bbf3547be09d997d",
       "version_major": 2,
       "version_minor": 0
      },
      "text/plain": [
       "Map(center=[56.48933832219088, 66.58297333088306], controls=(ZoomControl(options=['position', 'zoom_in_text', …"
      ]
     },
     "execution_count": 39,
     "metadata": {},
     "output_type": "execute_result"
    }
   ],
   "source": [
    "tracker_code = 10014\n",
    "\n",
    "length = tracks[tracks.tracker_code == tracker_code].track_length.iloc[0]\n",
    "period = tracks[tracks.tracker_code == tracker_code].navigation_time.iloc[0]\n",
    "speed = tracks[tracks.tracker_code == tracker_code].speed_mean.iloc[0]\n",
    "print(f'Трек: {tracker_code}, Длина: {length}, Время работы: {period}, Средняя скорость: {speed}')\n",
    "track_on_map(tracker_code)"
   ]
  },
  {
   "cell_type": "markdown",
   "metadata": {},
   "source": [
    "В результате анализа можно сделать вывод о том, что выбросами следует считать длины треков больше 1400 км, т.к. это максимальное расстояние, которое может проехать машина за день. К тому же геометрия треков при таких показателях имеет неестественную форму."
   ]
  },
  {
   "cell_type": "markdown",
   "metadata": {},
   "source": [
    "Очистим датасет от строк с такими значениями столбца track_length."
   ]
  },
  {
   "cell_type": "code",
   "execution_count": 40,
   "metadata": {},
   "outputs": [],
   "source": [
    "outliers_ind = tracks[tracks['track_length'] > 1400].index\n",
    "tracks.drop(outliers_ind, inplace = True)\n",
    "tracks.reset_index(drop = True, inplace = True)"
   ]
  },
  {
   "cell_type": "markdown",
   "metadata": {},
   "source": [
    "### navigation_time"
   ]
  },
  {
   "cell_type": "markdown",
   "metadata": {},
   "source": [
    "Перевод времени к размерности [минуты]."
   ]
  },
  {
   "cell_type": "code",
   "execution_count": 41,
   "metadata": {},
   "outputs": [],
   "source": [
    "tracks['navigation_time'] = tracks['navigation_time']/np.timedelta64(1, \"m\")\n",
    "tracks['navigation_time'] = tracks['navigation_time'].apply(lambda x: round(x, 3))"
   ]
  },
  {
   "cell_type": "markdown",
   "metadata": {},
   "source": [
    "### speed_mean"
   ]
  },
  {
   "cell_type": "code",
   "execution_count": 42,
   "metadata": {},
   "outputs": [
    {
     "data": {
      "text/plain": [
       "<Axes: >"
      ]
     },
     "execution_count": 42,
     "metadata": {},
     "output_type": "execute_result"
    },
    {
     "data": {
      "image/png": "[encoded data removed]",
      "text/plain": [
       "<Figure size 1000x500 with 1 Axes>"
      ]
     },
     "metadata": {},
     "output_type": "display_data"
    }
   ],
   "source": [
    "plt.figure(figsize = (10, 5))\n",
    "tracks['speed_mean'].hist(bins = 20)"
   ]
  },
  {
   "cell_type": "markdown",
   "metadata": {},
   "source": [
    "Удалим записи со значениями **speed_mean** менее 1 км/ч."
   ]
  },
  {
   "cell_type": "code",
   "execution_count": 43,
   "metadata": {},
   "outputs": [],
   "source": [
    "tracks.drop(tracks[tracks['speed_mean'] < 1].index, inplace = True)\n",
    "tracks.reset_index(drop = True, inplace = True)"
   ]
  },
  {
   "cell_type": "markdown",
   "metadata": {},
   "source": [
    "### nsat_mean"
   ]
  },
  {
   "cell_type": "code",
   "execution_count": 44,
   "metadata": {},
   "outputs": [
    {
     "data": {
      "text/plain": [
       "1947"
      ]
     },
     "execution_count": 44,
     "metadata": {},
     "output_type": "execute_result"
    }
   ],
   "source": [
    "tracks['nsat_mean'].isna().sum()"
   ]
  },
  {
   "cell_type": "markdown",
   "metadata": {},
   "source": [
    "Столбец содержит 1851 пустую ячейку. Целесообразно заполнить их средним значением."
   ]
  },
  {
   "cell_type": "code",
   "execution_count": 45,
   "metadata": {},
   "outputs": [
    {
     "data": {
      "text/plain": [
       "15.148"
      ]
     },
     "execution_count": 45,
     "metadata": {},
     "output_type": "execute_result"
    }
   ],
   "source": [
    "round(tracks['nsat_mean'].mean(), 3)"
   ]
  },
  {
   "cell_type": "code",
   "execution_count": 46,
   "metadata": {},
   "outputs": [],
   "source": [
    "tracks['nsat_mean'] = tracks['nsat_mean'].fillna(15.294)"
   ]
  },
  {
   "cell_type": "code",
   "execution_count": 47,
   "metadata": {},
   "outputs": [
    {
     "ename": "SyntaxError",
     "evalue": "incomplete input (2565058926.py, line 1)",
     "output_type": "error",
     "traceback": [
      "\u001b[1;36m  Cell \u001b[1;32mIn[47], line 1\u001b[1;36m\u001b[0m\n\u001b[1;33m    len(gh\u001b[0m\n\u001b[1;37m          ^\u001b[0m\n\u001b[1;31mSyntaxError\u001b[0m\u001b[1;31m:\u001b[0m incomplete input\n"
     ]
    }
   ],
   "source": [
    "len(gh"
   ]
  },
  {
   "cell_type": "markdown",
   "metadata": {},
   "source": [
    "### Проверка датасета на дубликаты"
   ]
  },
  {
   "cell_type": "code",
   "execution_count": 48,
   "metadata": {},
   "outputs": [
    {
     "data": {
      "text/html": [
       "<div>\n",
       "<style scoped>\n",
       "    .dataframe tbody tr th:only-of-type {\n",
       "        vertical-align: middle;\n",
       "    }\n",
       "\n",
       "    .dataframe tbody tr th {\n",
       "        vertical-align: top;\n",
       "    }\n",
       "\n",
       "    .dataframe thead th {\n",
       "        text-align: right;\n",
       "    }\n",
       "</style>\n",
       "<table border=\"1\" class=\"dataframe\">\n",
       "  <thead>\n",
       "    <tr style=\"text-align: right;\">\n",
       "      <th></th>\n",
       "      <th>track_length</th>\n",
       "      <th>speed_mean</th>\n",
       "      <th>navigation_time_min</th>\n",
       "      <th>navigation_time_max</th>\n",
       "      <th>count</th>\n",
       "    </tr>\n",
       "  </thead>\n",
       "  <tbody>\n",
       "    <tr>\n",
       "      <th>0</th>\n",
       "      <td>66.597</td>\n",
       "      <td>38.898</td>\n",
       "      <td>2023-05-11 01:10:25</td>\n",
       "      <td>2023-05-11 02:39:21</td>\n",
       "      <td>3</td>\n",
       "    </tr>\n",
       "    <tr>\n",
       "      <th>2</th>\n",
       "      <td>34.539</td>\n",
       "      <td>26.702</td>\n",
       "      <td>2023-05-11 02:31:40</td>\n",
       "      <td>2023-05-11 23:02:51</td>\n",
       "      <td>2</td>\n",
       "    </tr>\n",
       "    <tr>\n",
       "      <th>6</th>\n",
       "      <td>9.091</td>\n",
       "      <td>14.292</td>\n",
       "      <td>2023-05-11 02:47:51</td>\n",
       "      <td>2023-05-11 06:13:04</td>\n",
       "      <td>2</td>\n",
       "    </tr>\n",
       "    <tr>\n",
       "      <th>7</th>\n",
       "      <td>93.839</td>\n",
       "      <td>30.760</td>\n",
       "      <td>2023-05-11 02:51:57</td>\n",
       "      <td>2023-05-11 11:21:48</td>\n",
       "      <td>2</td>\n",
       "    </tr>\n",
       "    <tr>\n",
       "      <th>8</th>\n",
       "      <td>8.461</td>\n",
       "      <td>9.099</td>\n",
       "      <td>2023-05-11 01:26:10</td>\n",
       "      <td>2023-05-11 04:44:13</td>\n",
       "      <td>2</td>\n",
       "    </tr>\n",
       "    <tr>\n",
       "      <th>9</th>\n",
       "      <td>28.695</td>\n",
       "      <td>31.229</td>\n",
       "      <td>2023-05-11 09:38:45</td>\n",
       "      <td>2023-05-11 11:25:16</td>\n",
       "      <td>2</td>\n",
       "    </tr>\n",
       "    <tr>\n",
       "      <th>10</th>\n",
       "      <td>0.927</td>\n",
       "      <td>4.096</td>\n",
       "      <td>2023-05-11 03:24:03</td>\n",
       "      <td>2023-05-11 11:35:09</td>\n",
       "      <td>2</td>\n",
       "    </tr>\n",
       "    <tr>\n",
       "      <th>12</th>\n",
       "      <td>1.703</td>\n",
       "      <td>7.512</td>\n",
       "      <td>2023-05-11 02:06:03</td>\n",
       "      <td>2023-05-11 03:22:36</td>\n",
       "      <td>2</td>\n",
       "    </tr>\n",
       "    <tr>\n",
       "      <th>13</th>\n",
       "      <td>196.474</td>\n",
       "      <td>50.234</td>\n",
       "      <td>2023-05-11 04:12:30</td>\n",
       "      <td>2023-05-11 11:07:03</td>\n",
       "      <td>2</td>\n",
       "    </tr>\n",
       "    <tr>\n",
       "      <th>14</th>\n",
       "      <td>7.911</td>\n",
       "      <td>13.525</td>\n",
       "      <td>2023-05-11 02:58:11</td>\n",
       "      <td>2023-05-11 15:59:11</td>\n",
       "      <td>2</td>\n",
       "    </tr>\n",
       "    <tr>\n",
       "      <th>15</th>\n",
       "      <td>1.029</td>\n",
       "      <td>4.986</td>\n",
       "      <td>2023-05-11 03:43:57</td>\n",
       "      <td>2023-05-11 12:36:42</td>\n",
       "      <td>2</td>\n",
       "    </tr>\n",
       "    <tr>\n",
       "      <th>17</th>\n",
       "      <td>267.185</td>\n",
       "      <td>39.907</td>\n",
       "      <td>2023-05-11 02:27:44</td>\n",
       "      <td>2023-05-11 15:06:22</td>\n",
       "      <td>2</td>\n",
       "    </tr>\n",
       "    <tr>\n",
       "      <th>21</th>\n",
       "      <td>2.129</td>\n",
       "      <td>5.359</td>\n",
       "      <td>2023-05-11 04:37:07</td>\n",
       "      <td>2023-05-11 10:04:47</td>\n",
       "      <td>2</td>\n",
       "    </tr>\n",
       "    <tr>\n",
       "      <th>23</th>\n",
       "      <td>8.445</td>\n",
       "      <td>31.775</td>\n",
       "      <td>2023-05-11 00:00:04</td>\n",
       "      <td>2023-05-11 00:15:40</td>\n",
       "      <td>2</td>\n",
       "    </tr>\n",
       "    <tr>\n",
       "      <th>26</th>\n",
       "      <td>3.232</td>\n",
       "      <td>5.288</td>\n",
       "      <td>2023-05-11 03:10:31</td>\n",
       "      <td>2023-05-11 10:04:32</td>\n",
       "      <td>2</td>\n",
       "    </tr>\n",
       "    <tr>\n",
       "      <th>28</th>\n",
       "      <td>0.709</td>\n",
       "      <td>7.568</td>\n",
       "      <td>2023-05-11 06:12:41</td>\n",
       "      <td>2023-05-11 17:46:29</td>\n",
       "      <td>2</td>\n",
       "    </tr>\n",
       "    <tr>\n",
       "      <th>29</th>\n",
       "      <td>15.756</td>\n",
       "      <td>21.597</td>\n",
       "      <td>2023-05-11 02:05:15</td>\n",
       "      <td>2023-05-11 02:42:32</td>\n",
       "      <td>2</td>\n",
       "    </tr>\n",
       "    <tr>\n",
       "      <th>31</th>\n",
       "      <td>0.703</td>\n",
       "      <td>2.184</td>\n",
       "      <td>2023-05-11 02:32:08</td>\n",
       "      <td>2023-05-11 23:23:07</td>\n",
       "      <td>2</td>\n",
       "    </tr>\n",
       "    <tr>\n",
       "      <th>32</th>\n",
       "      <td>25.271</td>\n",
       "      <td>19.301</td>\n",
       "      <td>2023-05-11 01:42:30</td>\n",
       "      <td>2023-05-11 08:00:33</td>\n",
       "      <td>2</td>\n",
       "    </tr>\n",
       "    <tr>\n",
       "      <th>34</th>\n",
       "      <td>88.441</td>\n",
       "      <td>27.680</td>\n",
       "      <td>2023-05-11 02:18:46</td>\n",
       "      <td>2023-05-11 11:30:16</td>\n",
       "      <td>2</td>\n",
       "    </tr>\n",
       "    <tr>\n",
       "      <th>35</th>\n",
       "      <td>0.699</td>\n",
       "      <td>4.667</td>\n",
       "      <td>2023-05-11 10:29:35</td>\n",
       "      <td>2023-05-11 11:48:35</td>\n",
       "      <td>2</td>\n",
       "    </tr>\n",
       "    <tr>\n",
       "      <th>36</th>\n",
       "      <td>99.711</td>\n",
       "      <td>32.380</td>\n",
       "      <td>2023-05-11 02:03:59</td>\n",
       "      <td>2023-05-11 07:10:22</td>\n",
       "      <td>2</td>\n",
       "    </tr>\n",
       "    <tr>\n",
       "      <th>37</th>\n",
       "      <td>62.390</td>\n",
       "      <td>18.966</td>\n",
       "      <td>2023-05-11 02:04:20</td>\n",
       "      <td>2023-05-11 12:46:31</td>\n",
       "      <td>2</td>\n",
       "    </tr>\n",
       "    <tr>\n",
       "      <th>38</th>\n",
       "      <td>18.045</td>\n",
       "      <td>19.408</td>\n",
       "      <td>2023-05-11 08:24:08</td>\n",
       "      <td>2023-05-11 11:28:21</td>\n",
       "      <td>2</td>\n",
       "    </tr>\n",
       "    <tr>\n",
       "      <th>39</th>\n",
       "      <td>16.384</td>\n",
       "      <td>21.162</td>\n",
       "      <td>2023-05-11 08:32:32</td>\n",
       "      <td>2023-05-11 10:30:14</td>\n",
       "      <td>2</td>\n",
       "    </tr>\n",
       "    <tr>\n",
       "      <th>40</th>\n",
       "      <td>40.549</td>\n",
       "      <td>20.193</td>\n",
       "      <td>2023-05-11 01:47:48</td>\n",
       "      <td>2023-05-11 12:52:45</td>\n",
       "      <td>2</td>\n",
       "    </tr>\n",
       "    <tr>\n",
       "      <th>41</th>\n",
       "      <td>0.541</td>\n",
       "      <td>6.289</td>\n",
       "      <td>2023-05-11 06:49:19</td>\n",
       "      <td>2023-05-11 19:11:06</td>\n",
       "      <td>2</td>\n",
       "    </tr>\n",
       "    <tr>\n",
       "      <th>42</th>\n",
       "      <td>28.707</td>\n",
       "      <td>5.714</td>\n",
       "      <td>2023-05-11 04:30:08</td>\n",
       "      <td>2023-05-11 11:28:02</td>\n",
       "      <td>2</td>\n",
       "    </tr>\n",
       "    <tr>\n",
       "      <th>43</th>\n",
       "      <td>144.048</td>\n",
       "      <td>46.981</td>\n",
       "      <td>2023-05-11 00:00:02</td>\n",
       "      <td>2023-05-11 03:55:21</td>\n",
       "      <td>2</td>\n",
       "    </tr>\n",
       "    <tr>\n",
       "      <th>44</th>\n",
       "      <td>77.416</td>\n",
       "      <td>32.756</td>\n",
       "      <td>2023-05-11 02:53:35</td>\n",
       "      <td>2023-05-11 13:56:43</td>\n",
       "      <td>2</td>\n",
       "    </tr>\n",
       "    <tr>\n",
       "      <th>45</th>\n",
       "      <td>214.216</td>\n",
       "      <td>48.928</td>\n",
       "      <td>2023-05-11 00:58:55</td>\n",
       "      <td>2023-05-11 06:30:53</td>\n",
       "      <td>2</td>\n",
       "    </tr>\n",
       "    <tr>\n",
       "      <th>46</th>\n",
       "      <td>26.758</td>\n",
       "      <td>18.303</td>\n",
       "      <td>2023-05-11 07:54:52</td>\n",
       "      <td>2023-05-11 14:46:12</td>\n",
       "      <td>2</td>\n",
       "    </tr>\n",
       "    <tr>\n",
       "      <th>47</th>\n",
       "      <td>26.259</td>\n",
       "      <td>14.628</td>\n",
       "      <td>2023-05-11 03:13:43</td>\n",
       "      <td>2023-05-11 12:51:20</td>\n",
       "      <td>2</td>\n",
       "    </tr>\n",
       "    <tr>\n",
       "      <th>48</th>\n",
       "      <td>1.177</td>\n",
       "      <td>10.934</td>\n",
       "      <td>2023-05-11 07:04:04</td>\n",
       "      <td>2023-05-11 07:37:50</td>\n",
       "      <td>2</td>\n",
       "    </tr>\n",
       "    <tr>\n",
       "      <th>49</th>\n",
       "      <td>0.793</td>\n",
       "      <td>5.346</td>\n",
       "      <td>2023-05-11 03:27:26</td>\n",
       "      <td>2023-05-11 04:27:44</td>\n",
       "      <td>2</td>\n",
       "    </tr>\n",
       "    <tr>\n",
       "      <th>51</th>\n",
       "      <td>5.643</td>\n",
       "      <td>5.110</td>\n",
       "      <td>2023-05-11 04:34:03</td>\n",
       "      <td>2023-05-11 12:25:31</td>\n",
       "      <td>2</td>\n",
       "    </tr>\n",
       "    <tr>\n",
       "      <th>53</th>\n",
       "      <td>7.654</td>\n",
       "      <td>27.538</td>\n",
       "      <td>2023-05-11 04:50:41</td>\n",
       "      <td>2023-05-11 08:32:49</td>\n",
       "      <td>2</td>\n",
       "    </tr>\n",
       "    <tr>\n",
       "      <th>54</th>\n",
       "      <td>289.206</td>\n",
       "      <td>54.371</td>\n",
       "      <td>2023-05-11 00:49:13</td>\n",
       "      <td>2023-05-11 14:58:40</td>\n",
       "      <td>2</td>\n",
       "    </tr>\n",
       "    <tr>\n",
       "      <th>57</th>\n",
       "      <td>1.804</td>\n",
       "      <td>10.512</td>\n",
       "      <td>2023-05-11 10:17:40</td>\n",
       "      <td>2023-05-11 18:04:23</td>\n",
       "      <td>2</td>\n",
       "    </tr>\n",
       "    <tr>\n",
       "      <th>60</th>\n",
       "      <td>114.252</td>\n",
       "      <td>33.025</td>\n",
       "      <td>2023-05-11 06:00:22</td>\n",
       "      <td>2023-05-11 11:57:07</td>\n",
       "      <td>2</td>\n",
       "    </tr>\n",
       "    <tr>\n",
       "      <th>61</th>\n",
       "      <td>175.251</td>\n",
       "      <td>40.722</td>\n",
       "      <td>2023-05-11 00:28:54</td>\n",
       "      <td>2023-05-11 12:09:28</td>\n",
       "      <td>2</td>\n",
       "    </tr>\n",
       "    <tr>\n",
       "      <th>63</th>\n",
       "      <td>1.421</td>\n",
       "      <td>13.867</td>\n",
       "      <td>2023-05-11 06:32:10</td>\n",
       "      <td>2023-05-11 06:42:31</td>\n",
       "      <td>2</td>\n",
       "    </tr>\n",
       "    <tr>\n",
       "      <th>65</th>\n",
       "      <td>0.516</td>\n",
       "      <td>18.857</td>\n",
       "      <td>2023-05-11 04:56:03</td>\n",
       "      <td>2023-05-11 04:57:52</td>\n",
       "      <td>2</td>\n",
       "    </tr>\n",
       "    <tr>\n",
       "      <th>66</th>\n",
       "      <td>3.590</td>\n",
       "      <td>2.343</td>\n",
       "      <td>2023-05-11 02:59:12</td>\n",
       "      <td>2023-05-11 11:44:36</td>\n",
       "      <td>2</td>\n",
       "    </tr>\n",
       "    <tr>\n",
       "      <th>70</th>\n",
       "      <td>34.105</td>\n",
       "      <td>22.743</td>\n",
       "      <td>2023-05-11 03:12:08</td>\n",
       "      <td>2023-05-11 07:39:07</td>\n",
       "      <td>2</td>\n",
       "    </tr>\n",
       "    <tr>\n",
       "      <th>71</th>\n",
       "      <td>16.628</td>\n",
       "      <td>18.831</td>\n",
       "      <td>2023-05-11 04:25:32</td>\n",
       "      <td>2023-05-11 06:38:53</td>\n",
       "      <td>2</td>\n",
       "    </tr>\n",
       "    <tr>\n",
       "      <th>72</th>\n",
       "      <td>2.459</td>\n",
       "      <td>5.293</td>\n",
       "      <td>2023-05-11 03:42:58</td>\n",
       "      <td>2023-05-11 11:03:34</td>\n",
       "      <td>2</td>\n",
       "    </tr>\n",
       "    <tr>\n",
       "      <th>73</th>\n",
       "      <td>0.686</td>\n",
       "      <td>8.222</td>\n",
       "      <td>2023-05-11 03:58:46</td>\n",
       "      <td>2023-05-11 05:04:01</td>\n",
       "      <td>2</td>\n",
       "    </tr>\n",
       "    <tr>\n",
       "      <th>74</th>\n",
       "      <td>60.042</td>\n",
       "      <td>16.689</td>\n",
       "      <td>2023-05-11 01:02:47</td>\n",
       "      <td>2023-05-11 12:21:10</td>\n",
       "      <td>2</td>\n",
       "    </tr>\n",
       "  </tbody>\n",
       "</table>\n",
       "</div>"
      ],
      "text/plain": [
       "    track_length  speed_mean  navigation_time_min  navigation_time_max  count\n",
       "0         66.597      38.898  2023-05-11 01:10:25  2023-05-11 02:39:21      3\n",
       "2         34.539      26.702  2023-05-11 02:31:40  2023-05-11 23:02:51      2\n",
       "6          9.091      14.292  2023-05-11 02:47:51  2023-05-11 06:13:04      2\n",
       "7         93.839      30.760  2023-05-11 02:51:57  2023-05-11 11:21:48      2\n",
       "8          8.461       9.099  2023-05-11 01:26:10  2023-05-11 04:44:13      2\n",
       "9         28.695      31.229  2023-05-11 09:38:45  2023-05-11 11:25:16      2\n",
       "10         0.927       4.096  2023-05-11 03:24:03  2023-05-11 11:35:09      2\n",
       "12         1.703       7.512  2023-05-11 02:06:03  2023-05-11 03:22:36      2\n",
       "13       196.474      50.234  2023-05-11 04:12:30  2023-05-11 11:07:03      2\n",
       "14         7.911      13.525  2023-05-11 02:58:11  2023-05-11 15:59:11      2\n",
       "15         1.029       4.986  2023-05-11 03:43:57  2023-05-11 12:36:42      2\n",
       "17       267.185      39.907  2023-05-11 02:27:44  2023-05-11 15:06:22      2\n",
       "21         2.129       5.359  2023-05-11 04:37:07  2023-05-11 10:04:47      2\n",
       "23         8.445      31.775  2023-05-11 00:00:04  2023-05-11 00:15:40      2\n",
       "26         3.232       5.288  2023-05-11 03:10:31  2023-05-11 10:04:32      2\n",
       "28         0.709       7.568  2023-05-11 06:12:41  2023-05-11 17:46:29      2\n",
       "29        15.756      21.597  2023-05-11 02:05:15  2023-05-11 02:42:32      2\n",
       "31         0.703       2.184  2023-05-11 02:32:08  2023-05-11 23:23:07      2\n",
       "32        25.271      19.301  2023-05-11 01:42:30  2023-05-11 08:00:33      2\n",
       "34        88.441      27.680  2023-05-11 02:18:46  2023-05-11 11:30:16      2\n",
       "35         0.699       4.667  2023-05-11 10:29:35  2023-05-11 11:48:35      2\n",
       "36        99.711      32.380  2023-05-11 02:03:59  2023-05-11 07:10:22      2\n",
       "37        62.390      18.966  2023-05-11 02:04:20  2023-05-11 12:46:31      2\n",
       "38        18.045      19.408  2023-05-11 08:24:08  2023-05-11 11:28:21      2\n",
       "39        16.384      21.162  2023-05-11 08:32:32  2023-05-11 10:30:14      2\n",
       "40        40.549      20.193  2023-05-11 01:47:48  2023-05-11 12:52:45      2\n",
       "41         0.541       6.289  2023-05-11 06:49:19  2023-05-11 19:11:06      2\n",
       "42        28.707       5.714  2023-05-11 04:30:08  2023-05-11 11:28:02      2\n",
       "43       144.048      46.981  2023-05-11 00:00:02  2023-05-11 03:55:21      2\n",
       "44        77.416      32.756  2023-05-11 02:53:35  2023-05-11 13:56:43      2\n",
       "45       214.216      48.928  2023-05-11 00:58:55  2023-05-11 06:30:53      2\n",
       "46        26.758      18.303  2023-05-11 07:54:52  2023-05-11 14:46:12      2\n",
       "47        26.259      14.628  2023-05-11 03:13:43  2023-05-11 12:51:20      2\n",
       "48         1.177      10.934  2023-05-11 07:04:04  2023-05-11 07:37:50      2\n",
       "49         0.793       5.346  2023-05-11 03:27:26  2023-05-11 04:27:44      2\n",
       "51         5.643       5.110  2023-05-11 04:34:03  2023-05-11 12:25:31      2\n",
       "53         7.654      27.538  2023-05-11 04:50:41  2023-05-11 08:32:49      2\n",
       "54       289.206      54.371  2023-05-11 00:49:13  2023-05-11 14:58:40      2\n",
       "57         1.804      10.512  2023-05-11 10:17:40  2023-05-11 18:04:23      2\n",
       "60       114.252      33.025  2023-05-11 06:00:22  2023-05-11 11:57:07      2\n",
       "61       175.251      40.722  2023-05-11 00:28:54  2023-05-11 12:09:28      2\n",
       "63         1.421      13.867  2023-05-11 06:32:10  2023-05-11 06:42:31      2\n",
       "65         0.516      18.857  2023-05-11 04:56:03  2023-05-11 04:57:52      2\n",
       "66         3.590       2.343  2023-05-11 02:59:12  2023-05-11 11:44:36      2\n",
       "70        34.105      22.743  2023-05-11 03:12:08  2023-05-11 07:39:07      2\n",
       "71        16.628      18.831  2023-05-11 04:25:32  2023-05-11 06:38:53      2\n",
       "72         2.459       5.293  2023-05-11 03:42:58  2023-05-11 11:03:34      2\n",
       "73         0.686       8.222  2023-05-11 03:58:46  2023-05-11 05:04:01      2\n",
       "74        60.042      16.689  2023-05-11 01:02:47  2023-05-11 12:21:10      2"
      ]
     },
     "execution_count": 48,
     "metadata": {},
     "output_type": "execute_result"
    }
   ],
   "source": [
    "sub_df_1 = pd.DataFrame(tracks[['track_length', 'speed_mean', 'navigation_time_min', 'navigation_time_max']].value_counts())\n",
    "sub_df_1.reset_index(inplace = True)\n",
    "sub_df_1.columns = ['track_length', 'speed_mean', 'navigation_time_min', 'navigation_time_max', 'count']\n",
    "tracks_df1 = sub_df_1[(sub_df_1['count'] > 1) & (sub_df_1['track_length'] > 0.5)][['track_length', 'speed_mean', \n",
    "                                                         'navigation_time_min','navigation_time_max', 'count']]\n",
    "tracks_df1"
   ]
  },
  {
   "cell_type": "code",
   "execution_count": 49,
   "metadata": {},
   "outputs": [
    {
     "name": "stdout",
     "output_type": "stream",
     "text": [
      "len(dup_tracks1) = 49\n"
     ]
    },
    {
     "data": {
      "text/plain": [
       "[[229175, 1020229175, 1030229175],\n",
       " [265448, 3340052648],\n",
       " [102387170, 1022387170],\n",
       " [124786558, 1055697273],\n",
       " [40570122, 146052270],\n",
       " [33168475, 1913358939],\n",
       " [35909207, 1916099671],\n",
       " [1013062136, 1043062136],\n",
       " [920238, 1886956810],\n",
       " [801815906, 1021167586],\n",
       " [42919759, 1643495247],\n",
       " [1010056490, 1020056490],\n",
       " [159328523, 1045936779],\n",
       " [914430, 2360914430],\n",
       " [1011307521, 1041307521],\n",
       " [51080797, 1021080797],\n",
       " [1027457645, 1548644129],\n",
       " [1018354294, 1048354294],\n",
       " [51404159, 66684233],\n",
       " [4460543, 3036026591],\n",
       " [241196749, 1054024269],\n",
       " [102278623, 1020278623],\n",
       " [39714736, 45699895],\n",
       " [35692530, 86588586],\n",
       " [21545626, 52071349],\n",
       " [42201955, 2824917347],\n",
       " [33300333, 61971447],\n",
       " [102344123, 1025344123],\n",
       " [194003488, 1054016928],\n",
       " [2132777076, 2636895418],\n",
       " [21561896, 62006946],\n",
       " [41221248, 43875955],\n",
       " [1020214448, 1021375015],\n",
       " [21561380, 40515655],\n",
       " [1047593923, 1276711875],\n",
       " [1366045, 141366045],\n",
       " [2025634, 12025634],\n",
       " [34387116, 209999020],\n",
       " [34470987, 58223328],\n",
       " [32796062, 90917253],\n",
       " [9026779, 36755252],\n",
       " [103810954, 3039606546],\n",
       " [9039154, 2281000137],\n",
       " [2073236, 12073236],\n",
       " [2553660, 2825269052],\n",
       " [2391822622, 2393823248],\n",
       " [918322, 2360918322],\n",
       " [41732691, 890032691],\n",
       " [3293280, 31797837]]"
      ]
     },
     "execution_count": 49,
     "metadata": {},
     "output_type": "execute_result"
    }
   ],
   "source": [
    "dup_tracks1 = []\n",
    "for i in range(len(tracks_df1)):\n",
    "    dup_tracks1.append(list(tracks[(tracks['track_length'] == tracks_df1.track_length.iloc[i]) & \\\n",
    "                                   (tracks['speed_mean'] == tracks_df1.speed_mean.iloc[i]) & \\\n",
    "                                   (tracks['navigation_time_min'] == tracks_df1.navigation_time_min.iloc[i]) & \\\n",
    "                                   (tracks['navigation_time_max'] == tracks_df1.navigation_time_max.iloc[i])]['tracker_code']))\n",
    "    \n",
    "print(f'len(dup_tracks1) = {len(dup_tracks1)}')\n",
    "dup_tracks1"
   ]
  },
  {
   "cell_type": "code",
   "execution_count": 50,
   "metadata": {},
   "outputs": [
    {
     "data": {
      "text/html": [
       "<div>\n",
       "<style scoped>\n",
       "    .dataframe tbody tr th:only-of-type {\n",
       "        vertical-align: middle;\n",
       "    }\n",
       "\n",
       "    .dataframe tbody tr th {\n",
       "        vertical-align: top;\n",
       "    }\n",
       "\n",
       "    .dataframe thead th {\n",
       "        text-align: right;\n",
       "    }\n",
       "</style>\n",
       "<table border=\"1\" class=\"dataframe\">\n",
       "  <thead>\n",
       "    <tr style=\"text-align: right;\">\n",
       "      <th></th>\n",
       "      <th>track_length</th>\n",
       "      <th>speed_mean</th>\n",
       "      <th>count</th>\n",
       "    </tr>\n",
       "  </thead>\n",
       "  <tbody>\n",
       "    <tr>\n",
       "      <th>56</th>\n",
       "      <td>66.597</td>\n",
       "      <td>38.898</td>\n",
       "      <td>3</td>\n",
       "    </tr>\n",
       "    <tr>\n",
       "      <th>61</th>\n",
       "      <td>0.709</td>\n",
       "      <td>7.568</td>\n",
       "      <td>2</td>\n",
       "    </tr>\n",
       "    <tr>\n",
       "      <th>62</th>\n",
       "      <td>1.177</td>\n",
       "      <td>10.934</td>\n",
       "      <td>2</td>\n",
       "    </tr>\n",
       "    <tr>\n",
       "      <th>63</th>\n",
       "      <td>144.048</td>\n",
       "      <td>46.981</td>\n",
       "      <td>2</td>\n",
       "    </tr>\n",
       "    <tr>\n",
       "      <th>65</th>\n",
       "      <td>88.441</td>\n",
       "      <td>27.680</td>\n",
       "      <td>2</td>\n",
       "    </tr>\n",
       "    <tr>\n",
       "      <th>66</th>\n",
       "      <td>25.271</td>\n",
       "      <td>19.301</td>\n",
       "      <td>2</td>\n",
       "    </tr>\n",
       "    <tr>\n",
       "      <th>69</th>\n",
       "      <td>7.654</td>\n",
       "      <td>27.538</td>\n",
       "      <td>2</td>\n",
       "    </tr>\n",
       "    <tr>\n",
       "      <th>73</th>\n",
       "      <td>1.804</td>\n",
       "      <td>10.512</td>\n",
       "      <td>2</td>\n",
       "    </tr>\n",
       "    <tr>\n",
       "      <th>75</th>\n",
       "      <td>16.628</td>\n",
       "      <td>18.831</td>\n",
       "      <td>2</td>\n",
       "    </tr>\n",
       "    <tr>\n",
       "      <th>76</th>\n",
       "      <td>60.042</td>\n",
       "      <td>16.689</td>\n",
       "      <td>2</td>\n",
       "    </tr>\n",
       "    <tr>\n",
       "      <th>77</th>\n",
       "      <td>7.911</td>\n",
       "      <td>13.525</td>\n",
       "      <td>2</td>\n",
       "    </tr>\n",
       "    <tr>\n",
       "      <th>78</th>\n",
       "      <td>0.516</td>\n",
       "      <td>18.857</td>\n",
       "      <td>2</td>\n",
       "    </tr>\n",
       "    <tr>\n",
       "      <th>82</th>\n",
       "      <td>8.445</td>\n",
       "      <td>31.775</td>\n",
       "      <td>2</td>\n",
       "    </tr>\n",
       "    <tr>\n",
       "      <th>84</th>\n",
       "      <td>8.461</td>\n",
       "      <td>9.099</td>\n",
       "      <td>2</td>\n",
       "    </tr>\n",
       "    <tr>\n",
       "      <th>85</th>\n",
       "      <td>0.541</td>\n",
       "      <td>6.289</td>\n",
       "      <td>2</td>\n",
       "    </tr>\n",
       "    <tr>\n",
       "      <th>91</th>\n",
       "      <td>5.643</td>\n",
       "      <td>5.110</td>\n",
       "      <td>2</td>\n",
       "    </tr>\n",
       "    <tr>\n",
       "      <th>98</th>\n",
       "      <td>26.758</td>\n",
       "      <td>18.303</td>\n",
       "      <td>2</td>\n",
       "    </tr>\n",
       "    <tr>\n",
       "      <th>99</th>\n",
       "      <td>289.206</td>\n",
       "      <td>54.371</td>\n",
       "      <td>2</td>\n",
       "    </tr>\n",
       "    <tr>\n",
       "      <th>101</th>\n",
       "      <td>214.216</td>\n",
       "      <td>48.928</td>\n",
       "      <td>2</td>\n",
       "    </tr>\n",
       "    <tr>\n",
       "      <th>102</th>\n",
       "      <td>16.384</td>\n",
       "      <td>21.162</td>\n",
       "      <td>2</td>\n",
       "    </tr>\n",
       "    <tr>\n",
       "      <th>105</th>\n",
       "      <td>28.695</td>\n",
       "      <td>31.229</td>\n",
       "      <td>2</td>\n",
       "    </tr>\n",
       "    <tr>\n",
       "      <th>107</th>\n",
       "      <td>1.703</td>\n",
       "      <td>7.512</td>\n",
       "      <td>2</td>\n",
       "    </tr>\n",
       "    <tr>\n",
       "      <th>110</th>\n",
       "      <td>28.707</td>\n",
       "      <td>5.714</td>\n",
       "      <td>2</td>\n",
       "    </tr>\n",
       "    <tr>\n",
       "      <th>111</th>\n",
       "      <td>93.839</td>\n",
       "      <td>30.760</td>\n",
       "      <td>2</td>\n",
       "    </tr>\n",
       "    <tr>\n",
       "      <th>114</th>\n",
       "      <td>26.259</td>\n",
       "      <td>14.628</td>\n",
       "      <td>2</td>\n",
       "    </tr>\n",
       "    <tr>\n",
       "      <th>116</th>\n",
       "      <td>99.711</td>\n",
       "      <td>32.380</td>\n",
       "      <td>2</td>\n",
       "    </tr>\n",
       "    <tr>\n",
       "      <th>120</th>\n",
       "      <td>0.703</td>\n",
       "      <td>2.000</td>\n",
       "      <td>2</td>\n",
       "    </tr>\n",
       "    <tr>\n",
       "      <th>123</th>\n",
       "      <td>0.927</td>\n",
       "      <td>4.096</td>\n",
       "      <td>2</td>\n",
       "    </tr>\n",
       "    <tr>\n",
       "      <th>127</th>\n",
       "      <td>2.459</td>\n",
       "      <td>5.293</td>\n",
       "      <td>2</td>\n",
       "    </tr>\n",
       "    <tr>\n",
       "      <th>128</th>\n",
       "      <td>0.703</td>\n",
       "      <td>2.184</td>\n",
       "      <td>2</td>\n",
       "    </tr>\n",
       "    <tr>\n",
       "      <th>136</th>\n",
       "      <td>0.793</td>\n",
       "      <td>5.346</td>\n",
       "      <td>2</td>\n",
       "    </tr>\n",
       "    <tr>\n",
       "      <th>139</th>\n",
       "      <td>34.539</td>\n",
       "      <td>26.702</td>\n",
       "      <td>2</td>\n",
       "    </tr>\n",
       "    <tr>\n",
       "      <th>143</th>\n",
       "      <td>34.105</td>\n",
       "      <td>22.743</td>\n",
       "      <td>2</td>\n",
       "    </tr>\n",
       "    <tr>\n",
       "      <th>148</th>\n",
       "      <td>9.091</td>\n",
       "      <td>14.292</td>\n",
       "      <td>2</td>\n",
       "    </tr>\n",
       "    <tr>\n",
       "      <th>152</th>\n",
       "      <td>62.390</td>\n",
       "      <td>18.966</td>\n",
       "      <td>2</td>\n",
       "    </tr>\n",
       "    <tr>\n",
       "      <th>156</th>\n",
       "      <td>267.185</td>\n",
       "      <td>39.907</td>\n",
       "      <td>2</td>\n",
       "    </tr>\n",
       "    <tr>\n",
       "      <th>158</th>\n",
       "      <td>3.590</td>\n",
       "      <td>2.343</td>\n",
       "      <td>2</td>\n",
       "    </tr>\n",
       "    <tr>\n",
       "      <th>160</th>\n",
       "      <td>0.699</td>\n",
       "      <td>4.667</td>\n",
       "      <td>2</td>\n",
       "    </tr>\n",
       "    <tr>\n",
       "      <th>163</th>\n",
       "      <td>196.474</td>\n",
       "      <td>50.234</td>\n",
       "      <td>2</td>\n",
       "    </tr>\n",
       "    <tr>\n",
       "      <th>164</th>\n",
       "      <td>3.232</td>\n",
       "      <td>5.288</td>\n",
       "      <td>2</td>\n",
       "    </tr>\n",
       "    <tr>\n",
       "      <th>165</th>\n",
       "      <td>0.686</td>\n",
       "      <td>8.222</td>\n",
       "      <td>2</td>\n",
       "    </tr>\n",
       "    <tr>\n",
       "      <th>166</th>\n",
       "      <td>2.129</td>\n",
       "      <td>5.359</td>\n",
       "      <td>2</td>\n",
       "    </tr>\n",
       "    <tr>\n",
       "      <th>168</th>\n",
       "      <td>1.029</td>\n",
       "      <td>4.986</td>\n",
       "      <td>2</td>\n",
       "    </tr>\n",
       "    <tr>\n",
       "      <th>169</th>\n",
       "      <td>77.416</td>\n",
       "      <td>32.756</td>\n",
       "      <td>2</td>\n",
       "    </tr>\n",
       "    <tr>\n",
       "      <th>170</th>\n",
       "      <td>18.045</td>\n",
       "      <td>19.408</td>\n",
       "      <td>2</td>\n",
       "    </tr>\n",
       "    <tr>\n",
       "      <th>188</th>\n",
       "      <td>114.252</td>\n",
       "      <td>33.025</td>\n",
       "      <td>2</td>\n",
       "    </tr>\n",
       "    <tr>\n",
       "      <th>194</th>\n",
       "      <td>40.549</td>\n",
       "      <td>20.193</td>\n",
       "      <td>2</td>\n",
       "    </tr>\n",
       "    <tr>\n",
       "      <th>199</th>\n",
       "      <td>175.251</td>\n",
       "      <td>40.722</td>\n",
       "      <td>2</td>\n",
       "    </tr>\n",
       "    <tr>\n",
       "      <th>200</th>\n",
       "      <td>15.756</td>\n",
       "      <td>21.597</td>\n",
       "      <td>2</td>\n",
       "    </tr>\n",
       "    <tr>\n",
       "      <th>202</th>\n",
       "      <td>1.421</td>\n",
       "      <td>13.867</td>\n",
       "      <td>2</td>\n",
       "    </tr>\n",
       "  </tbody>\n",
       "</table>\n",
       "</div>"
      ],
      "text/plain": [
       "     track_length  speed_mean  count\n",
       "56         66.597      38.898      3\n",
       "61          0.709       7.568      2\n",
       "62          1.177      10.934      2\n",
       "63        144.048      46.981      2\n",
       "65         88.441      27.680      2\n",
       "66         25.271      19.301      2\n",
       "69          7.654      27.538      2\n",
       "73          1.804      10.512      2\n",
       "75         16.628      18.831      2\n",
       "76         60.042      16.689      2\n",
       "77          7.911      13.525      2\n",
       "78          0.516      18.857      2\n",
       "82          8.445      31.775      2\n",
       "84          8.461       9.099      2\n",
       "85          0.541       6.289      2\n",
       "91          5.643       5.110      2\n",
       "98         26.758      18.303      2\n",
       "99        289.206      54.371      2\n",
       "101       214.216      48.928      2\n",
       "102        16.384      21.162      2\n",
       "105        28.695      31.229      2\n",
       "107         1.703       7.512      2\n",
       "110        28.707       5.714      2\n",
       "111        93.839      30.760      2\n",
       "114        26.259      14.628      2\n",
       "116        99.711      32.380      2\n",
       "120         0.703       2.000      2\n",
       "123         0.927       4.096      2\n",
       "127         2.459       5.293      2\n",
       "128         0.703       2.184      2\n",
       "136         0.793       5.346      2\n",
       "139        34.539      26.702      2\n",
       "143        34.105      22.743      2\n",
       "148         9.091      14.292      2\n",
       "152        62.390      18.966      2\n",
       "156       267.185      39.907      2\n",
       "158         3.590       2.343      2\n",
       "160         0.699       4.667      2\n",
       "163       196.474      50.234      2\n",
       "164         3.232       5.288      2\n",
       "165         0.686       8.222      2\n",
       "166         2.129       5.359      2\n",
       "168         1.029       4.986      2\n",
       "169        77.416      32.756      2\n",
       "170        18.045      19.408      2\n",
       "188       114.252      33.025      2\n",
       "194        40.549      20.193      2\n",
       "199       175.251      40.722      2\n",
       "200        15.756      21.597      2\n",
       "202         1.421      13.867      2"
      ]
     },
     "execution_count": 50,
     "metadata": {},
     "output_type": "execute_result"
    }
   ],
   "source": [
    "sub_df_ = pd.DataFrame(tracks[['track_length', 'speed_mean']].value_counts())\n",
    "sub_df_.reset_index(inplace = True)\n",
    "sub_df_.columns = ['track_length', 'speed_mean', 'count']\n",
    "tracks_df = sub_df_[(sub_df_['count'] > 1) & (sub_df_['track_length'] > 0.5)][['track_length', 'speed_mean', 'count']]\n",
    "tracks_df"
   ]
  },
  {
   "cell_type": "code",
   "execution_count": 51,
   "metadata": {},
   "outputs": [
    {
     "name": "stdout",
     "output_type": "stream",
     "text": [
      "len(dup_tracks1) = 50\n"
     ]
    },
    {
     "data": {
      "text/plain": [
       "[[229175, 1020229175, 1030229175],\n",
       " [51080797, 1021080797],\n",
       " [21561380, 40515655],\n",
       " [194003488, 1054016928],\n",
       " [4460543, 3036026591],\n",
       " [51404159, 66684233],\n",
       " [2025634, 12025634],\n",
       " [34470987, 58223328],\n",
       " [2391822622, 2393823248],\n",
       " [3293280, 31797837],\n",
       " [801815906, 1021167586],\n",
       " [9039154, 2281000137],\n",
       " [914430, 2360914430],\n",
       " [40570122, 146052270],\n",
       " [33300333, 61971447],\n",
       " [1366045, 141366045],\n",
       " [41221248, 43875955],\n",
       " [34387116, 209999020],\n",
       " [21561896, 62006946],\n",
       " [21545626, 52071349],\n",
       " [33168475, 1913358939],\n",
       " [1013062136, 1043062136],\n",
       " [102344123, 1025344123],\n",
       " [124786558, 1055697273],\n",
       " [1020214448, 1021375015],\n",
       " [102278623, 1020278623],\n",
       " [2058562, 336011922],\n",
       " [35909207, 1916099671],\n",
       " [918322, 2360918322],\n",
       " [1018354294, 1048354294],\n",
       " [1047593923, 1276711875],\n",
       " [265448, 3340052648],\n",
       " [2553660, 2825269052],\n",
       " [102387170, 1022387170],\n",
       " [39714736, 45699895],\n",
       " [1010056490, 1020056490],\n",
       " [2073236, 12073236],\n",
       " [241196749, 1054024269],\n",
       " [920238, 1886956810],\n",
       " [1011307521, 1041307521],\n",
       " [41732691, 890032691],\n",
       " [159328523, 1045936779],\n",
       " [42919759, 1643495247],\n",
       " [2132777076, 2636895418],\n",
       " [35692530, 86588586],\n",
       " [32796062, 90917253],\n",
       " [42201955, 2824917347],\n",
       " [9026779, 36755252],\n",
       " [1027457645, 1548644129],\n",
       " [103810954, 3039606546]]"
      ]
     },
     "execution_count": 51,
     "metadata": {},
     "output_type": "execute_result"
    }
   ],
   "source": [
    "dup_tracks = []\n",
    "for i in range(len(tracks_df)):\n",
    "    dup_tracks.append(list(tracks[(tracks['track_length'] == tracks_df.track_length.iloc[i]) & \\\n",
    "                                  (tracks['speed_mean'] == tracks_df.speed_mean.iloc[i])]['tracker_code']))\n",
    "    \n",
    "print(f'len(dup_tracks1) = {len(dup_tracks)}')\n",
    "dup_tracks"
   ]
  },
  {
   "cell_type": "markdown",
   "metadata": {},
   "source": [
    "Определяем треки, которые не совпадают по времени начала и конца работы."
   ]
  },
  {
   "cell_type": "code",
   "execution_count": 52,
   "metadata": {},
   "outputs": [
    {
     "name": "stdout",
     "output_type": "stream",
     "text": [
      "[2058562, 336011922]\n"
     ]
    }
   ],
   "source": [
    "count = 0\n",
    "list_dif = []\n",
    "for list_track in dup_tracks:\n",
    "    if list_track in dup_tracks1:\n",
    "        count += 1\n",
    "    else:\n",
    "        print(list_track)"
   ]
  },
  {
   "cell_type": "code",
   "execution_count": 53,
   "metadata": {},
   "outputs": [],
   "source": [
    "#len(gh"
   ]
  },
  {
   "cell_type": "code",
   "execution_count": 54,
   "metadata": {},
   "outputs": [
    {
     "data": {
      "text/plain": [
       "(102059784, 1012059784, 1022059784, 1032059784, 1042059784)"
      ]
     },
     "execution_count": 54,
     "metadata": {},
     "output_type": "execute_result"
    }
   ],
   "source": [
    "102059784, 1012059784, 1022059784, 1032059784, 1042059784"
   ]
  },
  {
   "cell_type": "code",
   "execution_count": 55,
   "metadata": {},
   "outputs": [
    {
     "name": "stdout",
     "output_type": "stream",
     "text": [
      "\n",
      "\n",
      "Трек: 102059784, Длина: 91.445 км, Время работы: 13.2 ч, Средняя скорость: 21.0 км/ч\n"
     ]
    },
    {
     "data": {
      "application/vnd.jupyter.widget-view+json": {
       "model_id": "faa9c87b10994726b06b611fd0f35be3",
       "version_major": 2,
       "version_minor": 0
      },
      "text/plain": [
       "Map(center=[63.78371499799744, 76.73798597807483], controls=(ZoomControl(options=['position', 'zoom_in_text', …"
      ]
     },
     "execution_count": 55,
     "metadata": {},
     "output_type": "execute_result"
    }
   ],
   "source": [
    "tracker_code = 102059784\n",
    "\n",
    "length = tracks[tracks.tracker_code == tracker_code].track_length.iloc[0]\n",
    "period = tracks[tracks.tracker_code == tracker_code].navigation_time.iloc[0]\n",
    "speed = tracks[tracks.tracker_code == tracker_code].speed_mean.iloc[0]\n",
    "print('\\n')\n",
    "print(f'Трек: {tracker_code}, Длина: {round(length, 3)} км, Время работы: {round(period/60, 1)} ч, \\\n",
    "Средняя скорость: {round(speed, 1)} км/ч')\n",
    "track_on_map(tracker_code)"
   ]
  },
  {
   "cell_type": "code",
   "execution_count": 56,
   "metadata": {},
   "outputs": [
    {
     "name": "stdout",
     "output_type": "stream",
     "text": [
      "\n",
      "\n",
      "Трек: 1012059784, Длина: 91.438 км, Время работы: 13.2 ч, Средняя скорость: 20.8 км/ч\n"
     ]
    },
    {
     "data": {
      "application/vnd.jupyter.widget-view+json": {
       "model_id": "b54fc1564a944e9e9b54f746a881ddd7",
       "version_major": 2,
       "version_minor": 0
      },
      "text/plain": [
       "Map(center=[63.78371499799744, 76.73798597807483], controls=(ZoomControl(options=['position', 'zoom_in_text', …"
      ]
     },
     "execution_count": 56,
     "metadata": {},
     "output_type": "execute_result"
    }
   ],
   "source": [
    "tracker_code = 1012059784\n",
    "\n",
    "length = tracks[tracks.tracker_code == tracker_code].track_length.iloc[0]\n",
    "period = tracks[tracks.tracker_code == tracker_code].navigation_time.iloc[0]\n",
    "speed = tracks[tracks.tracker_code == tracker_code].speed_mean.iloc[0]\n",
    "print('\\n')\n",
    "print(f'Трек: {tracker_code}, Длина: {round(length, 3)} км, Время работы: {round(period/60, 1)} ч, \\\n",
    "Средняя скорость: {round(speed, 1)} км/ч')\n",
    "track_on_map(tracker_code)"
   ]
  },
  {
   "cell_type": "code",
   "execution_count": 57,
   "metadata": {},
   "outputs": [
    {
     "name": "stdout",
     "output_type": "stream",
     "text": [
      "\n",
      "\n",
      "Трек: 1022059784, Длина: 89.227 км, Время работы: 13.2 ч, Средняя скорость: 21.0 км/ч\n"
     ]
    },
    {
     "data": {
      "application/vnd.jupyter.widget-view+json": {
       "model_id": "dca1f66939864b759eb4a1a81e91578d",
       "version_major": 2,
       "version_minor": 0
      },
      "text/plain": [
       "Map(center=[63.78371499799744, 76.73798597807483], controls=(ZoomControl(options=['position', 'zoom_in_text', …"
      ]
     },
     "execution_count": 57,
     "metadata": {},
     "output_type": "execute_result"
    }
   ],
   "source": [
    "tracker_code = 1022059784\n",
    "\n",
    "length = tracks[tracks.tracker_code == tracker_code].track_length.iloc[0]\n",
    "period = tracks[tracks.tracker_code == tracker_code].navigation_time.iloc[0]\n",
    "speed = tracks[tracks.tracker_code == tracker_code].speed_mean.iloc[0]\n",
    "print('\\n')\n",
    "print(f'Трек: {tracker_code}, Длина: {round(length, 3)} км, Время работы: {round(period/60, 1)} ч, \\\n",
    "Средняя скорость: {round(speed, 1)} км/ч')\n",
    "track_on_map(tracker_code)"
   ]
  },
  {
   "cell_type": "code",
   "execution_count": 58,
   "metadata": {},
   "outputs": [
    {
     "name": "stdout",
     "output_type": "stream",
     "text": [
      "\n",
      "\n",
      "Трек: 1032059784, Длина: 89.227 км, Время работы: 13.2 ч, Средняя скорость: 21.0 км/ч\n"
     ]
    },
    {
     "data": {
      "application/vnd.jupyter.widget-view+json": {
       "model_id": "6abe625443ce454a9d08837e2cbf2ca3",
       "version_major": 2,
       "version_minor": 0
      },
      "text/plain": [
       "Map(center=[63.78371499799744, 76.73798597807483], controls=(ZoomControl(options=['position', 'zoom_in_text', …"
      ]
     },
     "execution_count": 58,
     "metadata": {},
     "output_type": "execute_result"
    }
   ],
   "source": [
    "tracker_code = 1032059784\n",
    "\n",
    "length = tracks[tracks.tracker_code == tracker_code].track_length.iloc[0]\n",
    "period = tracks[tracks.tracker_code == tracker_code].navigation_time.iloc[0]\n",
    "speed = tracks[tracks.tracker_code == tracker_code].speed_mean.iloc[0]\n",
    "print('\\n')\n",
    "print(f'Трек: {tracker_code}, Длина: {round(length, 3)} км, Время работы: {round(period/60, 1)} ч, \\\n",
    "Средняя скорость: {round(speed, 1)} км/ч')\n",
    "track_on_map(tracker_code)"
   ]
  },
  {
   "cell_type": "code",
   "execution_count": 59,
   "metadata": {},
   "outputs": [
    {
     "name": "stdout",
     "output_type": "stream",
     "text": [
      "\n",
      "\n",
      "Трек: 1042059784, Длина: 91.538 км, Время работы: 13.2 ч, Средняя скорость: 20.9 км/ч\n"
     ]
    },
    {
     "data": {
      "application/vnd.jupyter.widget-view+json": {
       "model_id": "ffa93df811e54806aac503dd87dacbd1",
       "version_major": 2,
       "version_minor": 0
      },
      "text/plain": [
       "Map(center=[63.78371499799744, 76.73798597807483], controls=(ZoomControl(options=['position', 'zoom_in_text', …"
      ]
     },
     "execution_count": 59,
     "metadata": {},
     "output_type": "execute_result"
    }
   ],
   "source": [
    "tracker_code = 1042059784\n",
    "\n",
    "length = tracks[tracks.tracker_code == tracker_code].track_length.iloc[0]\n",
    "period = tracks[tracks.tracker_code == tracker_code].navigation_time.iloc[0]\n",
    "speed = tracks[tracks.tracker_code == tracker_code].speed_mean.iloc[0]\n",
    "print('\\n')\n",
    "print(f'Трек: {tracker_code}, Длина: {round(length, 3)} км, Время работы: {round(period/60, 1)} ч, \\\n",
    "Средняя скорость: {round(speed, 1)} км/ч')\n",
    "track_on_map(tracker_code)"
   ]
  },
  {
   "cell_type": "code",
   "execution_count": 60,
   "metadata": {},
   "outputs": [
    {
     "name": "stdout",
     "output_type": "stream",
     "text": [
      "\n",
      "\n",
      "Трек: 42919759, Длина: 1.029 км, Время работы: 8.9 ч, Средняя скорость: 5.0 км/ч\n"
     ]
    },
    {
     "data": {
      "application/vnd.jupyter.widget-view+json": {
       "model_id": "81be184593b84249a2c6f111522667d1",
       "version_major": 2,
       "version_minor": 0
      },
      "text/plain": [
       "Map(center=[59.24128998984613, 74.33713997582373], controls=(ZoomControl(options=['position', 'zoom_in_text', …"
      ]
     },
     "execution_count": 60,
     "metadata": {},
     "output_type": "execute_result"
    }
   ],
   "source": [
    "tracker_code = 42919759\n",
    "\n",
    "length = tracks[tracks.tracker_code == tracker_code].track_length.iloc[0]\n",
    "period = tracks[tracks.tracker_code == tracker_code].navigation_time.iloc[0]\n",
    "speed = tracks[tracks.tracker_code == tracker_code].speed_mean.iloc[0]\n",
    "print('\\n')\n",
    "print(f'Трек: {tracker_code}, Длина: {round(length, 3)} км, Время работы: {round(period/60, 1)} ч, \\\n",
    "Средняя скорость: {round(speed, 1)} км/ч')\n",
    "track_on_map(tracker_code)"
   ]
  },
  {
   "cell_type": "code",
   "execution_count": 61,
   "metadata": {},
   "outputs": [
    {
     "name": "stdout",
     "output_type": "stream",
     "text": [
      "\n",
      "\n",
      "Трек: 1643495247, Длина: 1.029 км, Время работы: 8.9 ч, Средняя скорость: 5.0 км/ч\n"
     ]
    },
    {
     "data": {
      "application/vnd.jupyter.widget-view+json": {
       "model_id": "c125bae4ae064ab1a45a4228fb0b286c",
       "version_major": 2,
       "version_minor": 0
      },
      "text/plain": [
       "Map(center=[59.24128998984613, 74.33713997582373], controls=(ZoomControl(options=['position', 'zoom_in_text', …"
      ]
     },
     "execution_count": 61,
     "metadata": {},
     "output_type": "execute_result"
    }
   ],
   "source": [
    "tracker_code = 1643495247\n",
    "\n",
    "length = tracks[tracks.tracker_code == tracker_code].track_length.iloc[0]\n",
    "period = tracks[tracks.tracker_code == tracker_code].navigation_time.iloc[0]\n",
    "speed = tracks[tracks.tracker_code == tracker_code].speed_mean.iloc[0]\n",
    "print('\\n')\n",
    "print(f'Трек: {tracker_code}, Длина: {round(length, 3)} км, Время работы: {round(period/60, 1)} ч, \\\n",
    "Средняя скорость: {round(speed, 1)} км/ч')\n",
    "track_on_map(tracker_code)"
   ]
  },
  {
   "cell_type": "code",
   "execution_count": 62,
   "metadata": {},
   "outputs": [
    {
     "data": {
      "text/html": [
       "<div>\n",
       "<style scoped>\n",
       "    .dataframe tbody tr th:only-of-type {\n",
       "        vertical-align: middle;\n",
       "    }\n",
       "\n",
       "    .dataframe tbody tr th {\n",
       "        vertical-align: top;\n",
       "    }\n",
       "\n",
       "    .dataframe thead th {\n",
       "        text-align: right;\n",
       "    }\n",
       "</style>\n",
       "<table border=\"1\" class=\"dataframe\">\n",
       "  <thead>\n",
       "    <tr style=\"text-align: right;\">\n",
       "      <th></th>\n",
       "      <th>tracker_code</th>\n",
       "      <th>navigation_time_min</th>\n",
       "      <th>navigation_time_max</th>\n",
       "    </tr>\n",
       "  </thead>\n",
       "  <tbody>\n",
       "    <tr>\n",
       "      <th>14092</th>\n",
       "      <td>42919759</td>\n",
       "      <td>2023-05-11 03:43:57</td>\n",
       "      <td>2023-05-11 12:36:42</td>\n",
       "    </tr>\n",
       "  </tbody>\n",
       "</table>\n",
       "</div>"
      ],
      "text/plain": [
       "       tracker_code  navigation_time_min  navigation_time_max\n",
       "14092      42919759  2023-05-11 03:43:57  2023-05-11 12:36:42"
      ]
     },
     "execution_count": 62,
     "metadata": {},
     "output_type": "execute_result"
    }
   ],
   "source": [
    "tracks[tracks['tracker_code'] == 42919759][['tracker_code', 'navigation_time_min', 'navigation_time_max']]"
   ]
  },
  {
   "cell_type": "code",
   "execution_count": 63,
   "metadata": {},
   "outputs": [
    {
     "data": {
      "text/html": [
       "<div>\n",
       "<style scoped>\n",
       "    .dataframe tbody tr th:only-of-type {\n",
       "        vertical-align: middle;\n",
       "    }\n",
       "\n",
       "    .dataframe tbody tr th {\n",
       "        vertical-align: top;\n",
       "    }\n",
       "\n",
       "    .dataframe thead th {\n",
       "        text-align: right;\n",
       "    }\n",
       "</style>\n",
       "<table border=\"1\" class=\"dataframe\">\n",
       "  <thead>\n",
       "    <tr style=\"text-align: right;\">\n",
       "      <th></th>\n",
       "      <th>tracker_code</th>\n",
       "      <th>navigation_time_min</th>\n",
       "      <th>navigation_time_max</th>\n",
       "    </tr>\n",
       "  </thead>\n",
       "  <tbody>\n",
       "    <tr>\n",
       "      <th>22763</th>\n",
       "      <td>1643495247</td>\n",
       "      <td>2023-05-11 03:43:57</td>\n",
       "      <td>2023-05-11 12:36:42</td>\n",
       "    </tr>\n",
       "  </tbody>\n",
       "</table>\n",
       "</div>"
      ],
      "text/plain": [
       "       tracker_code  navigation_time_min  navigation_time_max\n",
       "22763    1643495247  2023-05-11 03:43:57  2023-05-11 12:36:42"
      ]
     },
     "execution_count": 63,
     "metadata": {},
     "output_type": "execute_result"
    }
   ],
   "source": [
    "tracks[tracks['tracker_code'] == 1643495247][['tracker_code', 'navigation_time_min', 'navigation_time_max']]"
   ]
  },
  {
   "cell_type": "code",
   "execution_count": 64,
   "metadata": {},
   "outputs": [
    {
     "data": {
      "text/plain": [
       "10"
      ]
     },
     "execution_count": 64,
     "metadata": {},
     "output_type": "execute_result"
    }
   ],
   "source": [
    "df[df['tracker_code'] == 42919759]['speed'].max()"
   ]
  },
  {
   "cell_type": "code",
   "execution_count": 65,
   "metadata": {},
   "outputs": [
    {
     "data": {
      "text/plain": [
       "1"
      ]
     },
     "execution_count": 65,
     "metadata": {},
     "output_type": "execute_result"
    }
   ],
   "source": [
    "df[df['tracker_code'] == 42919759]['speed'].min()"
   ]
  },
  {
   "cell_type": "code",
   "execution_count": 66,
   "metadata": {},
   "outputs": [
    {
     "name": "stdout",
     "output_type": "stream",
     "text": [
      "59.24128998984613\n",
      "74.33713997582373\n"
     ]
    }
   ],
   "source": [
    "print(df[df['tracker_code'] == 42919759]['latitude'].iloc[0])\n",
    "print(df[df['tracker_code'] == 42919759]['longitude'].iloc[0])"
   ]
  },
  {
   "cell_type": "markdown",
   "metadata": {},
   "source": [
    "### Построение корреляционной матрицы"
   ]
  },
  {
   "cell_type": "code",
   "execution_count": 67,
   "metadata": {},
   "outputs": [
    {
     "data": {
      "text/plain": [
       "<Axes: >"
      ]
     },
     "execution_count": 67,
     "metadata": {},
     "output_type": "execute_result"
    },
    {
     "data": {
      "image/png": "[encoded data removed]",
      "text/plain": [
       "<Figure size 1200x800 with 2 Axes>"
      ]
     },
     "metadata": {},
     "output_type": "display_data"
    }
   ],
   "source": [
    "plt.figure(figsize = (12, 8))\n",
    "correlation = tracks.drop(['tracker_code', 'navigation_time_max', 'navigation_time_min'], axis = 1).corr()\n",
    "sns.heatmap(correlation, cmap = 'coolwarm', annot = True)"
   ]
  },
  {
   "cell_type": "markdown",
   "metadata": {},
   "source": [
    "Большая корреляция наблюдается между признаком **track_length** с признаками **speed_mean** - 0.59 и **navigation_time** - 0.26. Это имеет логичное объяснение, т. к. признаки **speed_mean** и **navigation_time** имеют прямо пропорциональную зависимость с признаком **track_length**."
   ]
  },
  {
   "cell_type": "markdown",
   "metadata": {},
   "source": [
    "# Кластеризация"
   ]
  },
  {
   "cell_type": "code",
   "execution_count": 68,
   "metadata": {},
   "outputs": [
    {
     "data": {
      "text/html": [
       "<div>\n",
       "<style scoped>\n",
       "    .dataframe tbody tr th:only-of-type {\n",
       "        vertical-align: middle;\n",
       "    }\n",
       "\n",
       "    .dataframe tbody tr th {\n",
       "        vertical-align: top;\n",
       "    }\n",
       "\n",
       "    .dataframe thead th {\n",
       "        text-align: right;\n",
       "    }\n",
       "</style>\n",
       "<table border=\"1\" class=\"dataframe\">\n",
       "  <thead>\n",
       "    <tr style=\"text-align: right;\">\n",
       "      <th></th>\n",
       "      <th>tracker_code</th>\n",
       "      <th>nsat_mean</th>\n",
       "      <th>speed_mean</th>\n",
       "      <th>track_length</th>\n",
       "      <th>navigation_time_min</th>\n",
       "      <th>navigation_time_max</th>\n",
       "      <th>navigation_time</th>\n",
       "    </tr>\n",
       "  </thead>\n",
       "  <tbody>\n",
       "    <tr>\n",
       "      <th>0</th>\n",
       "      <td>9</td>\n",
       "      <td>18.171</td>\n",
       "      <td>32.720</td>\n",
       "      <td>128.897</td>\n",
       "      <td>2023-05-11 02:26:25</td>\n",
       "      <td>2023-05-11 12:29:45</td>\n",
       "      <td>603.333</td>\n",
       "    </tr>\n",
       "    <tr>\n",
       "      <th>1</th>\n",
       "      <td>59</td>\n",
       "      <td>15.465</td>\n",
       "      <td>26.767</td>\n",
       "      <td>79.559</td>\n",
       "      <td>2023-05-11 01:50:57</td>\n",
       "      <td>2023-05-11 22:57:40</td>\n",
       "      <td>1266.717</td>\n",
       "    </tr>\n",
       "    <tr>\n",
       "      <th>2</th>\n",
       "      <td>204</td>\n",
       "      <td>18.902</td>\n",
       "      <td>27.952</td>\n",
       "      <td>51.476</td>\n",
       "      <td>2023-05-11 02:36:59</td>\n",
       "      <td>2023-05-11 12:38:40</td>\n",
       "      <td>601.683</td>\n",
       "    </tr>\n",
       "    <tr>\n",
       "      <th>3</th>\n",
       "      <td>292</td>\n",
       "      <td>4.000</td>\n",
       "      <td>6.364</td>\n",
       "      <td>0.390</td>\n",
       "      <td>2023-05-11 09:39:52</td>\n",
       "      <td>2023-05-11 09:46:23</td>\n",
       "      <td>6.517</td>\n",
       "    </tr>\n",
       "    <tr>\n",
       "      <th>4</th>\n",
       "      <td>322</td>\n",
       "      <td>6.000</td>\n",
       "      <td>4.778</td>\n",
       "      <td>0.171</td>\n",
       "      <td>2023-05-11 13:26:09</td>\n",
       "      <td>2023-05-11 13:51:17</td>\n",
       "      <td>25.133</td>\n",
       "    </tr>\n",
       "  </tbody>\n",
       "</table>\n",
       "</div>"
      ],
      "text/plain": [
       "   tracker_code  nsat_mean  speed_mean  track_length  navigation_time_min  \\\n",
       "0             9     18.171      32.720       128.897  2023-05-11 02:26:25   \n",
       "1            59     15.465      26.767        79.559  2023-05-11 01:50:57   \n",
       "2           204     18.902      27.952        51.476  2023-05-11 02:36:59   \n",
       "3           292      4.000       6.364         0.390  2023-05-11 09:39:52   \n",
       "4           322      6.000       4.778         0.171  2023-05-11 13:26:09   \n",
       "\n",
       "   navigation_time_max  navigation_time  \n",
       "0  2023-05-11 12:29:45          603.333  \n",
       "1  2023-05-11 22:57:40         1266.717  \n",
       "2  2023-05-11 12:38:40          601.683  \n",
       "3  2023-05-11 09:46:23            6.517  \n",
       "4  2023-05-11 13:51:17           25.133  "
      ]
     },
     "execution_count": 68,
     "metadata": {},
     "output_type": "execute_result"
    }
   ],
   "source": [
    "tracks.head()"
   ]
  },
  {
   "cell_type": "code",
   "execution_count": 69,
   "metadata": {},
   "outputs": [],
   "source": [
    "X = tracks.drop(['tracker_code', 'navigation_time_max', 'navigation_time_min'], axis = 1)"
   ]
  },
  {
   "cell_type": "markdown",
   "metadata": {},
   "source": [
    "Нормализация данных."
   ]
  },
  {
   "cell_type": "code",
   "execution_count": 70,
   "metadata": {},
   "outputs": [],
   "source": [
    "X = StandardScaler().fit_transform(X)"
   ]
  },
  {
   "cell_type": "markdown",
   "metadata": {},
   "source": [
    "Обучение."
   ]
  },
  {
   "cell_type": "code",
   "execution_count": 71,
   "metadata": {},
   "outputs": [
    {
     "data": {
      "text/plain": [
       "{-1: 148, 0: 26193, 1: 31, 2: 9, 3: 10, 4: 5, 5: 5}"
      ]
     },
     "execution_count": 71,
     "metadata": {},
     "output_type": "execute_result"
    }
   ],
   "source": [
    "dbscan = DBSCAN(eps = 0.5, min_samples = 5)\n",
    "dbscan.fit(X)\n",
    "y_pred = dbscan.labels_\n",
    "unique, counts = np.unique(y_pred, return_counts=True)\n",
    "dict(zip(unique, counts))"
   ]
  },
  {
   "cell_type": "code",
   "execution_count": 72,
   "metadata": {},
   "outputs": [],
   "source": [
    "tracks['cluster'] = y_pred"
   ]
  },
  {
   "cell_type": "code",
   "execution_count": 73,
   "metadata": {},
   "outputs": [
    {
     "data": {
      "text/html": [
       "<div>\n",
       "<style scoped>\n",
       "    .dataframe tbody tr th:only-of-type {\n",
       "        vertical-align: middle;\n",
       "    }\n",
       "\n",
       "    .dataframe tbody tr th {\n",
       "        vertical-align: top;\n",
       "    }\n",
       "\n",
       "    .dataframe thead th {\n",
       "        text-align: right;\n",
       "    }\n",
       "</style>\n",
       "<table border=\"1\" class=\"dataframe\">\n",
       "  <thead>\n",
       "    <tr style=\"text-align: right;\">\n",
       "      <th></th>\n",
       "      <th>tracker_code</th>\n",
       "      <th>nsat_mean</th>\n",
       "      <th>speed_mean</th>\n",
       "      <th>track_length</th>\n",
       "      <th>navigation_time_min</th>\n",
       "      <th>navigation_time_max</th>\n",
       "      <th>navigation_time</th>\n",
       "      <th>cluster</th>\n",
       "    </tr>\n",
       "  </thead>\n",
       "  <tbody>\n",
       "    <tr>\n",
       "      <th>195</th>\n",
       "      <td>32678</td>\n",
       "      <td>255.0</td>\n",
       "      <td>16.163</td>\n",
       "      <td>6.637</td>\n",
       "      <td>2023-05-11 03:13:08</td>\n",
       "      <td>2023-05-11 14:56:49</td>\n",
       "      <td>703.683</td>\n",
       "      <td>1</td>\n",
       "    </tr>\n",
       "    <tr>\n",
       "      <th>234</th>\n",
       "      <td>52383</td>\n",
       "      <td>255.0</td>\n",
       "      <td>23.493</td>\n",
       "      <td>82.808</td>\n",
       "      <td>2023-05-11 02:16:33</td>\n",
       "      <td>2023-05-11 13:10:59</td>\n",
       "      <td>654.433</td>\n",
       "      <td>1</td>\n",
       "    </tr>\n",
       "    <tr>\n",
       "      <th>427</th>\n",
       "      <td>103183</td>\n",
       "      <td>255.0</td>\n",
       "      <td>22.303</td>\n",
       "      <td>73.976</td>\n",
       "      <td>2023-05-11 07:02:37</td>\n",
       "      <td>2023-05-11 14:16:18</td>\n",
       "      <td>433.683</td>\n",
       "      <td>1</td>\n",
       "    </tr>\n",
       "    <tr>\n",
       "      <th>452</th>\n",
       "      <td>107275</td>\n",
       "      <td>255.0</td>\n",
       "      <td>26.419</td>\n",
       "      <td>18.147</td>\n",
       "      <td>2023-05-11 02:26:19</td>\n",
       "      <td>2023-05-11 23:03:19</td>\n",
       "      <td>1237.000</td>\n",
       "      <td>1</td>\n",
       "    </tr>\n",
       "    <tr>\n",
       "      <th>764</th>\n",
       "      <td>133908</td>\n",
       "      <td>255.0</td>\n",
       "      <td>31.568</td>\n",
       "      <td>75.042</td>\n",
       "      <td>2023-05-11 01:40:31</td>\n",
       "      <td>2023-05-11 13:43:11</td>\n",
       "      <td>722.667</td>\n",
       "      <td>1</td>\n",
       "    </tr>\n",
       "  </tbody>\n",
       "</table>\n",
       "</div>"
      ],
      "text/plain": [
       "     tracker_code  nsat_mean  speed_mean  track_length  navigation_time_min  \\\n",
       "195         32678      255.0      16.163         6.637  2023-05-11 03:13:08   \n",
       "234         52383      255.0      23.493        82.808  2023-05-11 02:16:33   \n",
       "427        103183      255.0      22.303        73.976  2023-05-11 07:02:37   \n",
       "452        107275      255.0      26.419        18.147  2023-05-11 02:26:19   \n",
       "764        133908      255.0      31.568        75.042  2023-05-11 01:40:31   \n",
       "\n",
       "     navigation_time_max  navigation_time  cluster  \n",
       "195  2023-05-11 14:56:49          703.683        1  \n",
       "234  2023-05-11 13:10:59          654.433        1  \n",
       "427  2023-05-11 14:16:18          433.683        1  \n",
       "452  2023-05-11 23:03:19         1237.000        1  \n",
       "764  2023-05-11 13:43:11          722.667        1  "
      ]
     },
     "execution_count": 73,
     "metadata": {},
     "output_type": "execute_result"
    }
   ],
   "source": [
    "tracks[tracks['cluster'] == 1].head()"
   ]
  },
  {
   "cell_type": "code",
   "execution_count": 74,
   "metadata": {},
   "outputs": [
    {
     "name": "stdout",
     "output_type": "stream",
     "text": [
      "\n",
      "\n",
      "Трек: 32678, Длина: 6.637 км, Время работы: 11.7 ч, Средняя скорость: 16.2 км/ч, Кластер: 1\n"
     ]
    },
    {
     "data": {
      "application/vnd.jupyter.widget-view+json": {
       "model_id": "5340a90928b2425d8365063d5b91d84c",
       "version_major": 2,
       "version_minor": 0
      },
      "text/plain": [
       "Map(center=[60.94522334424435, 76.49679663043861], controls=(ZoomControl(options=['position', 'zoom_in_text', …"
      ]
     },
     "execution_count": 74,
     "metadata": {},
     "output_type": "execute_result"
    }
   ],
   "source": [
    "tracker_code = tracks[tracks['cluster'] == 1]['tracker_code'].iloc[0]\n",
    "\n",
    "length = tracks[tracks.tracker_code == tracker_code].track_length.iloc[0]\n",
    "period = tracks[tracks.tracker_code == tracker_code].navigation_time.iloc[0]\n",
    "speed = tracks[tracks.tracker_code == tracker_code].speed_mean.iloc[0]\n",
    "cluster = tracks[tracks.tracker_code == tracker_code]['cluster'].iloc[0]\n",
    "print('\\n')\n",
    "print(f'Трек: {tracker_code}, Длина: {round(length, 3)} км, Время работы: {round(period/60, 1)} ч, \\\n",
    "Средняя скорость: {round(speed, 1)} км/ч, Кластер: {cluster}')\n",
    "track_on_map(tracker_code)"
   ]
  },
  {
   "cell_type": "code",
   "execution_count": 75,
   "metadata": {},
   "outputs": [
    {
     "name": "stdout",
     "output_type": "stream",
     "text": [
      "\n",
      "\n",
      "Трек: 52383, Длина: 82.808 км, Время работы: 10.9 ч, Средняя скорость: 23.5 км/ч, Кластер: 1\n"
     ]
    },
    {
     "data": {
      "application/vnd.jupyter.widget-view+json": {
       "model_id": "6d62bf37808146a4822116c0c9115e2c",
       "version_major": 2,
       "version_minor": 0
      },
      "text/plain": [
       "Map(center=[63.194226497596645, 75.44160512635521], controls=(ZoomControl(options=['position', 'zoom_in_text',…"
      ]
     },
     "execution_count": 75,
     "metadata": {},
     "output_type": "execute_result"
    }
   ],
   "source": [
    "tracker_code = tracks[tracks['cluster'] == 1]['tracker_code'].iloc[1]\n",
    "\n",
    "length = tracks[tracks.tracker_code == tracker_code].track_length.iloc[0]\n",
    "period = tracks[tracks.tracker_code == tracker_code].navigation_time.iloc[0]\n",
    "speed = tracks[tracks.tracker_code == tracker_code].speed_mean.iloc[0]\n",
    "cluster = tracks[tracks.tracker_code == tracker_code]['cluster'].iloc[0]\n",
    "print('\\n')\n",
    "print(f'Трек: {tracker_code}, Длина: {round(length, 3)} км, Время работы: {round(period/60, 1)} ч, \\\n",
    "Средняя скорость: {round(speed, 1)} км/ч, Кластер: {cluster}')\n",
    "track_on_map(tracker_code)"
   ]
  },
  {
   "cell_type": "code",
   "execution_count": 76,
   "metadata": {},
   "outputs": [
    {
     "data": {
      "text/html": [
       "<div>\n",
       "<style scoped>\n",
       "    .dataframe tbody tr th:only-of-type {\n",
       "        vertical-align: middle;\n",
       "    }\n",
       "\n",
       "    .dataframe tbody tr th {\n",
       "        vertical-align: top;\n",
       "    }\n",
       "\n",
       "    .dataframe thead th {\n",
       "        text-align: right;\n",
       "    }\n",
       "</style>\n",
       "<table border=\"1\" class=\"dataframe\">\n",
       "  <thead>\n",
       "    <tr style=\"text-align: right;\">\n",
       "      <th></th>\n",
       "      <th>tracker_code</th>\n",
       "      <th>nsat_mean</th>\n",
       "      <th>speed_mean</th>\n",
       "      <th>track_length</th>\n",
       "      <th>navigation_time_min</th>\n",
       "      <th>navigation_time_max</th>\n",
       "      <th>navigation_time</th>\n",
       "      <th>cluster</th>\n",
       "    </tr>\n",
       "  </thead>\n",
       "  <tbody>\n",
       "    <tr>\n",
       "      <th>1209</th>\n",
       "      <td>189161</td>\n",
       "      <td>255.0</td>\n",
       "      <td>3.000</td>\n",
       "      <td>0.00</td>\n",
       "      <td>2023-05-11 04:46:03</td>\n",
       "      <td>2023-05-11 04:46:03</td>\n",
       "      <td>0.000</td>\n",
       "      <td>2</td>\n",
       "    </tr>\n",
       "    <tr>\n",
       "      <th>1800</th>\n",
       "      <td>298281</td>\n",
       "      <td>255.0</td>\n",
       "      <td>3.333</td>\n",
       "      <td>0.03</td>\n",
       "      <td>2023-05-11 04:11:02</td>\n",
       "      <td>2023-05-11 04:11:39</td>\n",
       "      <td>0.617</td>\n",
       "      <td>2</td>\n",
       "    </tr>\n",
       "    <tr>\n",
       "      <th>11721</th>\n",
       "      <td>9016544</td>\n",
       "      <td>255.0</td>\n",
       "      <td>3.000</td>\n",
       "      <td>0.00</td>\n",
       "      <td>2023-05-11 04:10:10</td>\n",
       "      <td>2023-05-11 04:10:10</td>\n",
       "      <td>0.000</td>\n",
       "      <td>2</td>\n",
       "    </tr>\n",
       "    <tr>\n",
       "      <th>12290</th>\n",
       "      <td>10017088</td>\n",
       "      <td>255.0</td>\n",
       "      <td>4.000</td>\n",
       "      <td>0.00</td>\n",
       "      <td>2023-05-11 04:34:21</td>\n",
       "      <td>2023-05-11 04:34:21</td>\n",
       "      <td>0.000</td>\n",
       "      <td>2</td>\n",
       "    </tr>\n",
       "    <tr>\n",
       "      <th>12530</th>\n",
       "      <td>11788400</td>\n",
       "      <td>255.0</td>\n",
       "      <td>2.000</td>\n",
       "      <td>0.00</td>\n",
       "      <td>2023-05-11 04:58:27</td>\n",
       "      <td>2023-05-11 04:58:27</td>\n",
       "      <td>0.000</td>\n",
       "      <td>2</td>\n",
       "    </tr>\n",
       "  </tbody>\n",
       "</table>\n",
       "</div>"
      ],
      "text/plain": [
       "       tracker_code  nsat_mean  speed_mean  track_length  navigation_time_min  \\\n",
       "1209         189161      255.0       3.000          0.00  2023-05-11 04:46:03   \n",
       "1800         298281      255.0       3.333          0.03  2023-05-11 04:11:02   \n",
       "11721       9016544      255.0       3.000          0.00  2023-05-11 04:10:10   \n",
       "12290      10017088      255.0       4.000          0.00  2023-05-11 04:34:21   \n",
       "12530      11788400      255.0       2.000          0.00  2023-05-11 04:58:27   \n",
       "\n",
       "       navigation_time_max  navigation_time  cluster  \n",
       "1209   2023-05-11 04:46:03            0.000        2  \n",
       "1800   2023-05-11 04:11:39            0.617        2  \n",
       "11721  2023-05-11 04:10:10            0.000        2  \n",
       "12290  2023-05-11 04:34:21            0.000        2  \n",
       "12530  2023-05-11 04:58:27            0.000        2  "
      ]
     },
     "execution_count": 76,
     "metadata": {},
     "output_type": "execute_result"
    }
   ],
   "source": [
    "tracks[tracks['cluster'] == 2].head()"
   ]
  },
  {
   "cell_type": "code",
   "execution_count": 78,
   "metadata": {},
   "outputs": [
    {
     "name": "stdout",
     "output_type": "stream",
     "text": [
      "\n",
      "\n",
      "Трек: 189161, Длина: 0.0 км, Время работы: 0.0 ч, Средняя скорость: 3.0 км/ч, Кластер: 2\n"
     ]
    },
    {
     "data": {
      "application/vnd.jupyter.widget-view+json": {
       "model_id": "12f4b809ace049f2ae6aef7c107f5ed2",
       "version_major": 2,
       "version_minor": 0
      },
      "text/plain": [
       "Map(center=[66.70607165822435, 66.22077163919359], controls=(ZoomControl(options=['position', 'zoom_in_text', …"
      ]
     },
     "execution_count": 78,
     "metadata": {},
     "output_type": "execute_result"
    }
   ],
   "source": [
    "tracker_code = tracks[tracks['cluster'] == 2]['tracker_code'].iloc[0]\n",
    "\n",
    "length = tracks[tracks.tracker_code == tracker_code].track_length.iloc[0]\n",
    "period = tracks[tracks.tracker_code == tracker_code].navigation_time.iloc[0]\n",
    "speed = tracks[tracks.tracker_code == tracker_code].speed_mean.iloc[0]\n",
    "cluster = tracks[tracks.tracker_code == tracker_code]['cluster'].iloc[0]\n",
    "print('\\n')\n",
    "print(f'Трек: {tracker_code}, Длина: {round(length, 3)} км, Время работы: {round(period/60, 1)} ч, \\\n",
    "Средняя скорость: {round(speed, 1)} км/ч, Кластер: {cluster}')\n",
    "track_on_map(tracker_code)"
   ]
  },
  {
   "cell_type": "code",
   "execution_count": 79,
   "metadata": {},
   "outputs": [
    {
     "name": "stdout",
     "output_type": "stream",
     "text": [
      "\n",
      "\n",
      "Трек: 298281, Длина: 0.03 км, Время работы: 0.0 ч, Средняя скорость: 3.3 км/ч, Кластер: 2\n"
     ]
    },
    {
     "data": {
      "application/vnd.jupyter.widget-view+json": {
       "model_id": "3d9932eba63141a5b05f9f3993c9281f",
       "version_major": 2,
       "version_minor": 0
      },
      "text/plain": [
       "Map(center=[61.19397664703288, 69.98726499033795], controls=(ZoomControl(options=['position', 'zoom_in_text', …"
      ]
     },
     "execution_count": 79,
     "metadata": {},
     "output_type": "execute_result"
    }
   ],
   "source": [
    "tracker_code = tracks[tracks['cluster'] == 2]['tracker_code'].iloc[1]\n",
    "\n",
    "length = tracks[tracks.tracker_code == tracker_code].track_length.iloc[0]\n",
    "period = tracks[tracks.tracker_code == tracker_code].navigation_time.iloc[0]\n",
    "speed = tracks[tracks.tracker_code == tracker_code].speed_mean.iloc[0]\n",
    "cluster = tracks[tracks.tracker_code == tracker_code]['cluster'].iloc[0]\n",
    "print('\\n')\n",
    "print(f'Трек: {tracker_code}, Длина: {round(length, 3)} км, Время работы: {round(period/60, 1)} ч, \\\n",
    "Средняя скорость: {round(speed, 1)} км/ч, Кластер: {cluster}')\n",
    "track_on_map(tracker_code)"
   ]
  },
  {
   "cell_type": "code",
   "execution_count": 80,
   "metadata": {},
   "outputs": [
    {
     "data": {
      "text/html": [
       "<div>\n",
       "<style scoped>\n",
       "    .dataframe tbody tr th:only-of-type {\n",
       "        vertical-align: middle;\n",
       "    }\n",
       "\n",
       "    .dataframe tbody tr th {\n",
       "        vertical-align: top;\n",
       "    }\n",
       "\n",
       "    .dataframe thead th {\n",
       "        text-align: right;\n",
       "    }\n",
       "</style>\n",
       "<table border=\"1\" class=\"dataframe\">\n",
       "  <thead>\n",
       "    <tr style=\"text-align: right;\">\n",
       "      <th></th>\n",
       "      <th>tracker_code</th>\n",
       "      <th>nsat_mean</th>\n",
       "      <th>speed_mean</th>\n",
       "      <th>track_length</th>\n",
       "      <th>navigation_time_min</th>\n",
       "      <th>navigation_time_max</th>\n",
       "      <th>navigation_time</th>\n",
       "      <th>cluster</th>\n",
       "    </tr>\n",
       "  </thead>\n",
       "  <tbody>\n",
       "    <tr>\n",
       "      <th>107</th>\n",
       "      <td>4061</td>\n",
       "      <td>126.104</td>\n",
       "      <td>60.903</td>\n",
       "      <td>751.439</td>\n",
       "      <td>2023-05-11 03:49:24</td>\n",
       "      <td>2023-05-11 22:19:07</td>\n",
       "      <td>1109.717</td>\n",
       "      <td>-1</td>\n",
       "    </tr>\n",
       "    <tr>\n",
       "      <th>112</th>\n",
       "      <td>6198</td>\n",
       "      <td>17.516</td>\n",
       "      <td>93.325</td>\n",
       "      <td>1112.850</td>\n",
       "      <td>2023-05-11 02:46:11</td>\n",
       "      <td>2023-05-11 18:42:30</td>\n",
       "      <td>956.317</td>\n",
       "      <td>-1</td>\n",
       "    </tr>\n",
       "    <tr>\n",
       "      <th>181</th>\n",
       "      <td>22005</td>\n",
       "      <td>255.000</td>\n",
       "      <td>43.460</td>\n",
       "      <td>326.866</td>\n",
       "      <td>2023-05-11 04:00:09</td>\n",
       "      <td>2023-05-11 18:05:29</td>\n",
       "      <td>845.333</td>\n",
       "      <td>-1</td>\n",
       "    </tr>\n",
       "    <tr>\n",
       "      <th>187</th>\n",
       "      <td>27604</td>\n",
       "      <td>255.000</td>\n",
       "      <td>57.080</td>\n",
       "      <td>278.859</td>\n",
       "      <td>2023-05-11 00:48:14</td>\n",
       "      <td>2023-05-11 08:12:22</td>\n",
       "      <td>444.133</td>\n",
       "      <td>-1</td>\n",
       "    </tr>\n",
       "    <tr>\n",
       "      <th>223</th>\n",
       "      <td>51430</td>\n",
       "      <td>15.294</td>\n",
       "      <td>83.914</td>\n",
       "      <td>159.760</td>\n",
       "      <td>2023-05-11 11:23:32</td>\n",
       "      <td>2023-05-11 13:42:40</td>\n",
       "      <td>139.133</td>\n",
       "      <td>-1</td>\n",
       "    </tr>\n",
       "  </tbody>\n",
       "</table>\n",
       "</div>"
      ],
      "text/plain": [
       "     tracker_code  nsat_mean  speed_mean  track_length  navigation_time_min  \\\n",
       "107          4061    126.104      60.903       751.439  2023-05-11 03:49:24   \n",
       "112          6198     17.516      93.325      1112.850  2023-05-11 02:46:11   \n",
       "181         22005    255.000      43.460       326.866  2023-05-11 04:00:09   \n",
       "187         27604    255.000      57.080       278.859  2023-05-11 00:48:14   \n",
       "223         51430     15.294      83.914       159.760  2023-05-11 11:23:32   \n",
       "\n",
       "     navigation_time_max  navigation_time  cluster  \n",
       "107  2023-05-11 22:19:07         1109.717       -1  \n",
       "112  2023-05-11 18:42:30          956.317       -1  \n",
       "181  2023-05-11 18:05:29          845.333       -1  \n",
       "187  2023-05-11 08:12:22          444.133       -1  \n",
       "223  2023-05-11 13:42:40          139.133       -1  "
      ]
     },
     "execution_count": 80,
     "metadata": {},
     "output_type": "execute_result"
    }
   ],
   "source": [
    "tracks[tracks['cluster'] == -1].head()"
   ]
  },
  {
   "cell_type": "code",
   "execution_count": 81,
   "metadata": {
    "scrolled": false
   },
   "outputs": [
    {
     "name": "stdout",
     "output_type": "stream",
     "text": [
      "\n",
      "\n",
      "Трек: 4061, Длина: 751.439 км, Время работы: 18.5 ч, Средняя скорость: 60.9 км/ч, Кластер: -1\n"
     ]
    },
    {
     "data": {
      "application/vnd.jupyter.widget-view+json": {
       "model_id": "13d0a75d4d62403dafef08266a6097f6",
       "version_major": 2,
       "version_minor": 0
      },
      "text/plain": [
       "Map(center=[56.411986997446974, 37.52318798506707], controls=(ZoomControl(options=['position', 'zoom_in_text',…"
      ]
     },
     "execution_count": 81,
     "metadata": {},
     "output_type": "execute_result"
    }
   ],
   "source": [
    "tracker_code = tracks[tracks['cluster'] == -1]['tracker_code'].iloc[0]\n",
    "\n",
    "length = tracks[tracks.tracker_code == tracker_code].track_length.iloc[0]\n",
    "period = tracks[tracks.tracker_code == tracker_code].navigation_time.iloc[0]\n",
    "speed = tracks[tracks.tracker_code == tracker_code].speed_mean.iloc[0]\n",
    "cluster = tracks[tracks.tracker_code == tracker_code]['cluster'].iloc[0]\n",
    "print('\\n')\n",
    "print(f'Трек: {tracker_code}, Длина: {round(length, 3)} км, Время работы: {round(period/60, 1)} ч, \\\n",
    "Средняя скорость: {round(speed, 1)} км/ч, Кластер: {cluster}')\n",
    "track_on_map(tracker_code)"
   ]
  },
  {
   "cell_type": "code",
   "execution_count": 82,
   "metadata": {},
   "outputs": [
    {
     "name": "stdout",
     "output_type": "stream",
     "text": [
      "\n",
      "\n",
      "Трек: 6198, Длина: 1112.85 км, Время работы: 15.9 ч, Средняя скорость: 93.3 км/ч, Кластер: -1\n"
     ]
    },
    {
     "data": {
      "application/vnd.jupyter.widget-view+json": {
       "model_id": "b7eeb2b059b440e996d1191f406d4cdb",
       "version_major": 2,
       "version_minor": 0
      },
      "text/plain": [
       "Map(center=[56.85706831907319, 60.5342682917915], controls=(ZoomControl(options=['position', 'zoom_in_text', '…"
      ]
     },
     "execution_count": 82,
     "metadata": {},
     "output_type": "execute_result"
    }
   ],
   "source": [
    "tracker_code = tracks[tracks['cluster'] == -1]['tracker_code'].iloc[1]\n",
    "\n",
    "length = tracks[tracks.tracker_code == tracker_code].track_length.iloc[0]\n",
    "period = tracks[tracks.tracker_code == tracker_code].navigation_time.iloc[0]\n",
    "speed = tracks[tracks.tracker_code == tracker_code].speed_mean.iloc[0]\n",
    "cluster = tracks[tracks.tracker_code == tracker_code]['cluster'].iloc[0]\n",
    "print('\\n')\n",
    "print(f'Трек: {tracker_code}, Длина: {round(length, 3)} км, Время работы: {round(period/60, 1)} ч, \\\n",
    "Средняя скорость: {round(speed, 1)} км/ч, Кластер: {cluster}')\n",
    "track_on_map(tracker_code)"
   ]
  },
  {
   "cell_type": "markdown",
   "metadata": {},
   "source": [
    "Построим корреляцию между признаками датасета и метками кластера."
   ]
  },
  {
   "cell_type": "code",
   "execution_count": 83,
   "metadata": {},
   "outputs": [
    {
     "data": {
      "text/plain": [
       "<Axes: >"
      ]
     },
     "execution_count": 83,
     "metadata": {},
     "output_type": "execute_result"
    },
    {
     "data": {
      "image/png": "[encoded data removed]",
      "text/plain": [
       "<Figure size 1200x700 with 2 Axes>"
      ]
     },
     "metadata": {},
     "output_type": "display_data"
    }
   ],
   "source": [
    "plt.figure(figsize = (12,7))\n",
    "correlation = tracks.drop(['tracker_code', 'navigation_time_max', 'navigation_time_min'], axis = 1).corr()\n",
    "sns.heatmap(correlation, cmap = 'coolwarm', annot = True)"
   ]
  },
  {
   "cell_type": "markdown",
   "metadata": {},
   "source": [
    "Корреляция между признаками датасета и метками кластеров очень низкая, что говорит о крайне слабом влиянии признаков на образование кластеров. Помимо этого видно, что в данных фактически отсутствуют кластерная структура. На основании изложенного можно сделать вывод, что гипотеза поиска одинаковых треков с помощью кластеризации несостоятельна."
   ]
  }
 ],
 "metadata": {
  "kernelspec": {
   "display_name": "Python 3 (ipykernel)",
   "language": "python",
   "name": "python3"
  },
  "language_info": {
   "codemirror_mode": {
    "name": "ipython",
    "version": 3
   },
   "file_extension": ".py",
   "mimetype": "text/x-python",
   "name": "python",
   "nbconvert_exporter": "python",
   "pygments_lexer": "ipython3",
   "version": "3.11.5"
  }
 },
 "nbformat": 4,
 "nbformat_minor": 4
}
